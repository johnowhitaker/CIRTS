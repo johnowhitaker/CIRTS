{
 "cells": [
  {
   "cell_type": "markdown",
   "metadata": {},
   "source": [
    "# Model Selection\n",
    "\n",
    "This notebook will attempt to provide some justification for the particular model chosen for use throughout my final year project. I'll run through my thinking, show how the neural network approach performs in relation to some other likely choices and re-create my hyper-parameter tuning process."
   ]
  },
  {
   "cell_type": "markdown",
   "metadata": {},
   "source": [
    "## Requirements\n",
    "\n",
    "One goal of my project is to answer a fairly broad question: can we use machine learning to make inferences from the readings we'll be taking.\n",
    "\n",
    "To answer this, we need to do some kind of machine learning. There will be many sub-tasks, both classification and regression. For each one, we could go through a rigorous model selection approach, but it's nice to have one or two good general purpose models that we can use. We don't care so much about the question 'what is the absolute best performance we could achieve here' - all we want to know is whether ML can be useful in solving a given problem. \n",
    "\n",
    "So we want to find one or two models that can generalize to the different tasks we'll be trying. The chosen models will need to have the following charachteristics:\n",
    "- General purpose. Some algorithms might work for one specific problem, but we want a model that can be easily adapted to the different situations\n",
    "- Robust. We will be using fairly small training datasets, so the model will need some way of combatting overfitting. There is a danger that an overly complicated model will simply fit the noise in the training data and not generalize well.\n",
    "- Capable of fitting complex functions. Simple linear models might work for some of the problems considered, but a good model would be able to handle the non-linearities inherent in our experimental setup. Light scatters, diffracts, reflects and attenuates. A more complex model would probably be better suited to this kind of problem.\n",
    "\n",
    "With this in mind, let's load up some data and begin our experiments"
   ]
  },
  {
   "cell_type": "code",
   "execution_count": 2,
   "metadata": {},
   "outputs": [
    {
     "name": "stderr",
     "output_type": "stream",
     "text": [
      "/home/jonathan/.local/lib/python3.6/site-packages/sklearn/ensemble/weight_boosting.py:29: DeprecationWarning: numpy.core.umath_tests is an internal NumPy module and should not be imported. It will be removed in a future NumPy release.\n",
      "  from numpy.core.umath_tests import inner1d\n"
     ]
    },
    {
     "data": {
      "text/html": [
       "<div>\n",
       "<style scoped>\n",
       "    .dataframe tbody tr th:only-of-type {\n",
       "        vertical-align: middle;\n",
       "    }\n",
       "\n",
       "    .dataframe tbody tr th {\n",
       "        vertical-align: top;\n",
       "    }\n",
       "\n",
       "    .dataframe thead th {\n",
       "        text-align: right;\n",
       "    }\n",
       "</style>\n",
       "<table border=\"1\" class=\"dataframe\">\n",
       "  <thead>\n",
       "    <tr style=\"text-align: right;\">\n",
       "      <th></th>\n",
       "      <th>0</th>\n",
       "      <th>1</th>\n",
       "      <th>2</th>\n",
       "      <th>3</th>\n",
       "      <th>4</th>\n",
       "      <th>5</th>\n",
       "      <th>6</th>\n",
       "      <th>7</th>\n",
       "      <th>8</th>\n",
       "      <th>9</th>\n",
       "      <th>...</th>\n",
       "      <th>65</th>\n",
       "      <th>66</th>\n",
       "      <th>67</th>\n",
       "      <th>68</th>\n",
       "      <th>69</th>\n",
       "      <th>70</th>\n",
       "      <th>71</th>\n",
       "      <th>quadrant</th>\n",
       "      <th>object</th>\n",
       "      <th>object_name</th>\n",
       "    </tr>\n",
       "  </thead>\n",
       "  <tbody>\n",
       "    <tr>\n",
       "      <th>0</th>\n",
       "      <td>740</td>\n",
       "      <td>738</td>\n",
       "      <td>733</td>\n",
       "      <td>736</td>\n",
       "      <td>744</td>\n",
       "      <td>727</td>\n",
       "      <td>729</td>\n",
       "      <td>749</td>\n",
       "      <td>721</td>\n",
       "      <td>734</td>\n",
       "      <td>...</td>\n",
       "      <td>554</td>\n",
       "      <td>721</td>\n",
       "      <td>728</td>\n",
       "      <td>727</td>\n",
       "      <td>724</td>\n",
       "      <td>723</td>\n",
       "      <td>727</td>\n",
       "      <td>0</td>\n",
       "      <td>0</td>\n",
       "      <td>empty</td>\n",
       "    </tr>\n",
       "    <tr>\n",
       "      <th>1</th>\n",
       "      <td>747</td>\n",
       "      <td>736</td>\n",
       "      <td>736</td>\n",
       "      <td>719</td>\n",
       "      <td>729</td>\n",
       "      <td>734</td>\n",
       "      <td>721</td>\n",
       "      <td>734</td>\n",
       "      <td>729</td>\n",
       "      <td>722</td>\n",
       "      <td>...</td>\n",
       "      <td>543</td>\n",
       "      <td>740</td>\n",
       "      <td>721</td>\n",
       "      <td>741</td>\n",
       "      <td>723</td>\n",
       "      <td>716</td>\n",
       "      <td>724</td>\n",
       "      <td>0</td>\n",
       "      <td>0</td>\n",
       "      <td>empty</td>\n",
       "    </tr>\n",
       "    <tr>\n",
       "      <th>2</th>\n",
       "      <td>738</td>\n",
       "      <td>727</td>\n",
       "      <td>730</td>\n",
       "      <td>721</td>\n",
       "      <td>738</td>\n",
       "      <td>734</td>\n",
       "      <td>722</td>\n",
       "      <td>741</td>\n",
       "      <td>734</td>\n",
       "      <td>728</td>\n",
       "      <td>...</td>\n",
       "      <td>552</td>\n",
       "      <td>739</td>\n",
       "      <td>716</td>\n",
       "      <td>714</td>\n",
       "      <td>728</td>\n",
       "      <td>720</td>\n",
       "      <td>740</td>\n",
       "      <td>0</td>\n",
       "      <td>0</td>\n",
       "      <td>empty</td>\n",
       "    </tr>\n",
       "    <tr>\n",
       "      <th>3</th>\n",
       "      <td>748</td>\n",
       "      <td>734</td>\n",
       "      <td>738</td>\n",
       "      <td>737</td>\n",
       "      <td>756</td>\n",
       "      <td>743</td>\n",
       "      <td>722</td>\n",
       "      <td>744</td>\n",
       "      <td>728</td>\n",
       "      <td>733</td>\n",
       "      <td>...</td>\n",
       "      <td>550</td>\n",
       "      <td>746</td>\n",
       "      <td>730</td>\n",
       "      <td>724</td>\n",
       "      <td>723</td>\n",
       "      <td>713</td>\n",
       "      <td>730</td>\n",
       "      <td>0</td>\n",
       "      <td>0</td>\n",
       "      <td>empty</td>\n",
       "    </tr>\n",
       "    <tr>\n",
       "      <th>4</th>\n",
       "      <td>744</td>\n",
       "      <td>737</td>\n",
       "      <td>740</td>\n",
       "      <td>746</td>\n",
       "      <td>738</td>\n",
       "      <td>746</td>\n",
       "      <td>717</td>\n",
       "      <td>738</td>\n",
       "      <td>737</td>\n",
       "      <td>734</td>\n",
       "      <td>...</td>\n",
       "      <td>539</td>\n",
       "      <td>736</td>\n",
       "      <td>725</td>\n",
       "      <td>731</td>\n",
       "      <td>717</td>\n",
       "      <td>725</td>\n",
       "      <td>732</td>\n",
       "      <td>0</td>\n",
       "      <td>0</td>\n",
       "      <td>empty</td>\n",
       "    </tr>\n",
       "  </tbody>\n",
       "</table>\n",
       "<p>5 rows × 75 columns</p>\n",
       "</div>"
      ],
      "text/plain": [
       "     0    1    2    3    4    5    6    7    8    9     ...        65   66  \\\n",
       "0  740  738  733  736  744  727  729  749  721  734     ...       554  721   \n",
       "1  747  736  736  719  729  734  721  734  729  722     ...       543  740   \n",
       "2  738  727  730  721  738  734  722  741  734  728     ...       552  739   \n",
       "3  748  734  738  737  756  743  722  744  728  733     ...       550  746   \n",
       "4  744  737  740  746  738  746  717  738  737  734     ...       539  736   \n",
       "\n",
       "    67   68   69   70   71  quadrant  object  object_name  \n",
       "0  728  727  724  723  727         0       0        empty  \n",
       "1  721  741  723  716  724         0       0        empty  \n",
       "2  716  714  728  720  740         0       0        empty  \n",
       "3  730  724  723  713  730         0       0        empty  \n",
       "4  725  731  717  725  732         0       0        empty  \n",
       "\n",
       "[5 rows x 75 columns]"
      ]
     },
     "execution_count": 2,
     "metadata": {},
     "output_type": "execute_result"
    }
   ],
   "source": [
    "# Load up the required libraries\n",
    "from matplotlib import pyplot as plt\n",
    "import numpy as np\n",
    "import pandas as pd\n",
    "from sklearn.model_selection import train_test_split\n",
    "from sklearn.linear_model import LogisticRegression\n",
    "\n",
    "# Load the first dataset\n",
    "df1 = pd.read_csv('dataset_2q.csv')\n",
    "df1 = df1.drop('Unnamed: 0', axis=1)\n",
    "df1.head()"
   ]
  },
  {
   "cell_type": "markdown",
   "metadata": {},
   "source": [
    "This data comes from the ring of 8. Each row contains 72 readings. 8 ADC readings from the PTs with no LEDs illuminated, 8 with the first LED lit, 8 with the second etc. These will be the inputs to our model. The quadrant and object columns are the output variables. We want a model to be able to predict these values based on the inputs."
   ]
  },
  {
   "cell_type": "markdown",
   "metadata": {},
   "source": [
    "For a given model, we'll split the data into a training set and a test set. We train the model with the training data, then see how well it performs on the (never before seen) test data. Here, I'm only showing the score for one run. When doing these tests, I generally repeat many times for different (random) test and train sets generated from the initial dataset. This is called cross-validation, and later in this notebook I'll switch to using that to get more accurate comparative scores for choosing the best model. For now, we'll take the more simplistic approach."
   ]
  },
  {
   "cell_type": "code",
   "execution_count": 4,
   "metadata": {},
   "outputs": [
    {
     "name": "stdout",
     "output_type": "stream",
     "text": [
      "Score (training data) 0.8013333333333333\n",
      "Score (test data) 0.722\n"
     ]
    }
   ],
   "source": [
    "# Split the data. X will be the inputs, Y the desired output\n",
    "X = df1[[str(i) for i in range(72)]] # The readings\n",
    "y = df1['object'] # What object is in the ring\n",
    "X_train, X_test, y_train, y_test = train_test_split(X, y)\n",
    "\n",
    "# Initiate a model. Let's try a simple linear model first. Since this is a classification task, \n",
    "# the logistic regression model (aka MaxEnt, logit regression, log-linear classifier) is the typical choice\n",
    "model = LogisticRegression() # We'll leave the parameters as default for now\n",
    "\n",
    "# Fit the model to the training data\n",
    "model.fit(X_train, y_train)\n",
    "\n",
    "# Score the model on the training data and the test data\n",
    "print('Score (training data)', model.score(X_train, y_train))\n",
    "print('Score (test data)', model.score(X_test, y_test))"
   ]
  },
  {
   "cell_type": "markdown",
   "metadata": {},
   "source": [
    "72% accuracy. Not bad! Notice that the score is beter for the training data (expected) but still decent for the test data. This is because by default the model includes a regularization parameter to prevent overfitting. We'll see some models that don't do as well on the test but score nearly 100% on the training data because they don't address this problem."
   ]
  },
  {
   "cell_type": "markdown",
   "metadata": {},
   "source": [
    "The next model we'll try is a classic for classification :) Support vector machines."
   ]
  },
  {
   "cell_type": "code",
   "execution_count": 7,
   "metadata": {},
   "outputs": [
    {
     "name": "stdout",
     "output_type": "stream",
     "text": [
      "Score (training data) 0.542\n",
      "Score (test data) 0.522\n"
     ]
    }
   ],
   "source": [
    "from sklearn.svm import LinearSVC\n",
    "model = LinearSVC()\n",
    "model.fit(X_train, y_train)\n",
    "print('Score (training data)', model.score(X_train, y_train))\n",
    "print('Score (test data)', model.score(X_test, y_test))"
   ]
  },
  {
   "cell_type": "code",
   "execution_count": 12,
   "metadata": {},
   "outputs": [
    {
     "name": "stdout",
     "output_type": "stream",
     "text": [
      "Score (training data) 1.0\n",
      "Score (test data) 0.19\n"
     ]
    }
   ],
   "source": [
    "from sklearn.svm import SVC\n",
    "model = SVC()\n",
    "model.fit(X_train, y_train)\n",
    "print('Score (training data)', model.score(X_train, y_train))\n",
    "print('Score (test data)', model.score(X_test, y_test))"
   ]
  },
  {
   "cell_type": "markdown",
   "metadata": {},
   "source": [
    "The first one does pretty badly, and the second is clearly suffering from overfitting. I'll increase the regularization parameter untill we start to get a more generalizeable model. We do this by setting the 'gamma' parameter. Lower gamma means more emphasis on the regularization term."
   ]
  },
  {
   "cell_type": "code",
   "execution_count": 16,
   "metadata": {},
   "outputs": [
    {
     "name": "stdout",
     "output_type": "stream",
     "text": [
      "Score (test data) 0.19 Gamma: 0.1\n",
      "Score (test data) 0.19 Gamma: 0.01\n",
      "Score (test data) 0.458 Gamma: 0.001\n",
      "Score (test data) 0.864 Gamma: 0.0001\n",
      "Score (test data) 0.806 Gamma: 1e-05\n"
     ]
    }
   ],
   "source": [
    "for g in [0.1, 0.01, 0.001, 0.0001, 0.00001]:\n",
    "    model = SVC(gamma=g)\n",
    "    model.fit(X_train, y_train)\n",
    "    print('Score (test data)', model.score(X_test, y_test), 'Gamma:', g)"
   ]
  },
  {
   "cell_type": "markdown",
   "metadata": {},
   "source": [
    "This introduces the idea of hyperparameter tuning. We're tweaking one of the defining attributes of the model and seeing how we can maximise performance. In this case, with gamma=0.0001 we see much better performance than with the default value. This is now our best performing model."
   ]
  },
  {
   "cell_type": "markdown",
   "metadata": {},
   "source": [
    "We could probably get our score up a little bit more by tuning some other parameters and tweaking the gamma ever so slightly. But let's move on to other types of models. Here, I'll try a decision tree approach, followed my one of my favourite (for nostalgic reasons) models - Random Forest Classification."
   ]
  },
  {
   "cell_type": "markdown",
   "metadata": {},
   "source": [
    "Decision tree:"
   ]
  },
  {
   "cell_type": "code",
   "execution_count": 18,
   "metadata": {},
   "outputs": [
    {
     "name": "stdout",
     "output_type": "stream",
     "text": [
      "Score (training data) 1.0\n",
      "Score (test data) 0.646\n"
     ]
    }
   ],
   "source": [
    "from sklearn import tree\n",
    "model = tree.DecisionTreeClassifier()\n",
    "model.fit(X_train, y_train)\n",
    "print('Score (training data)', model.score(X_train, y_train))\n",
    "print('Score (test data)', model.score(X_test, y_test))"
   ]
  },
  {
   "cell_type": "code",
   "execution_count": 29,
   "metadata": {},
   "outputs": [
    {
     "name": "stdout",
     "output_type": "stream",
     "text": [
      "Score (training data) 0.814\n",
      "Score (test data) 0.666\n"
     ]
    }
   ],
   "source": [
    "# And after some tuning, removed for brevity, we still get pretty much the same result\n",
    "model = tree.DecisionTreeClassifier(max_depth = 8, min_samples_leaf=1)\n",
    "model.fit(X_train, y_train)\n",
    "print('Score (training data)', model.score(X_train, y_train))\n",
    "print('Score (test data)', model.score(X_test, y_test))"
   ]
  },
  {
   "cell_type": "markdown",
   "metadata": {},
   "source": [
    "Not great. Dtrees are not really used much - too simple and prone to overfitting."
   ]
  },
  {
   "cell_type": "markdown",
   "metadata": {},
   "source": [
    "Random Forest"
   ]
  },
  {
   "cell_type": "code",
   "execution_count": 31,
   "metadata": {},
   "outputs": [
    {
     "name": "stdout",
     "output_type": "stream",
     "text": [
      "Score (training data) 0.9953333333333333\n",
      "Score (test data) 0.742\n"
     ]
    }
   ],
   "source": [
    "# First with defualt values\n",
    "from sklearn.ensemble import RandomForestClassifier\n",
    "model = RandomForestClassifier()\n",
    "model.fit(X_train, y_train)\n",
    "print('Score (training data)', model.score(X_train, y_train))\n",
    "print('Score (test data)', model.score(X_test, y_test))"
   ]
  },
  {
   "cell_type": "code",
   "execution_count": 43,
   "metadata": {},
   "outputs": [
    {
     "name": "stdout",
     "output_type": "stream",
     "text": [
      "Score (training data) 1.0\n",
      "Score (test data) 0.866\n"
     ]
    }
   ],
   "source": [
    "# Trying some better values for the important parameters. I arrive at these via intuition and\n",
    "# a bit of experimentation. I'm pretty good at it - see the leaderboard of the competition \n",
    "# ongoing at zindi.africa :) There is a general method which one can follow to optimize a random forest model\n",
    "model = RandomForestClassifier(n_estimators=200, max_depth=15, min_samples_leaf=2)\n",
    "model.fit(X_train, y_train)\n",
    "print('Score (training data)', model.score(X_train, y_train))\n",
    "print('Score (test data)', model.score(X_test, y_test))"
   ]
  },
  {
   "cell_type": "markdown",
   "metadata": {},
   "source": [
    "This is roughly as good as the best SVC model, and we haven't yet done much tuning. But scoring on this one test set is a bit misleading, and we might end up picking paramteres that only work for this one random split. So at this point I'll do some housekeeping and introduce a better scoring function."
   ]
  },
  {
   "cell_type": "code",
   "execution_count": 49,
   "metadata": {},
   "outputs": [
    {
     "name": "stdout",
     "output_type": "stream",
     "text": [
      "Rforest score: 2.9125\n",
      "SVC score: 2.7100000000000004\n"
     ]
    }
   ],
   "source": [
    "from sklearn.model_selection import KFold, cross_val_score\n",
    "\n",
    "# Our new scoring function. Takes a model as input, as well as X and y. Does 5 splits and returns the sum of the scores\n",
    "def cvs(model, X, y, ns=5):\n",
    "    k_fold = KFold(n_splits=ns)\n",
    "    score = 0\n",
    "    for trains, tests in k_fold.split(X):\n",
    "        model.fit(X.values[trains], y.values[trains])\n",
    "        score += model.score(X.values[tests],y.values[tests])\n",
    "    return score\n",
    "\n",
    "model1 = RandomForestClassifier(n_estimators=200, max_depth=15, min_samples_leaf=2)\n",
    "model2 = model = SVC(gamma=0.0001)\n",
    "\n",
    "print('Rforest score:', cvs(model1, X, y))\n",
    "print('SVC score:', cvs(model2, X, y))"
   ]
  },
  {
   "cell_type": "markdown",
   "metadata": {},
   "source": [
    "The scoring is simple - bigger is better. We could adjust the function to give a meaningful value but all I care about for now is comparison. Notice it takes ages, so I'll stick to the old way untill we need to settle a close contest."
   ]
  },
  {
   "cell_type": "markdown",
   "metadata": {},
   "source": [
    "Now for the fun part - neural networks. I have big hopes for this approach, and not just because I've done this before. They're good at this sort of thing. Veng-Pedersen, P. and Modi, N.B., 1992. say they are \"are recognized mainly in terms of their adaptive learning and self-organization features and their nonlinear processing capability and are considered most suitable to deal with complex multivariate systems that are poorly understood and difficult to model by classical inductive, logically structured modeling techniques.”"
   ]
  },
  {
   "cell_type": "code",
   "execution_count": 51,
   "metadata": {},
   "outputs": [
    {
     "name": "stdout",
     "output_type": "stream",
     "text": [
      "Score (training data) 0.2926666666666667\n",
      "Score (test data) 0.306\n"
     ]
    }
   ],
   "source": [
    "from sklearn.neural_network import MLPClassifier\n",
    "model = MLPClassifier()\n",
    "model.fit(X_train, y_train)\n",
    "print('Score (training data)', model.score(X_train, y_train))\n",
    "print('Score (test data)', model.score(X_test, y_test))"
   ]
  },
  {
   "cell_type": "markdown",
   "metadata": {},
   "source": [
    "What!? That's terrible! Almost as bad as random guessing (there are 5 classes here). What could we be doing wrong?\n",
    "\n",
    "Well, one important fact: NNs are messed up by input scaling. So the first thing we should do is scale our inputs down to a sensoble range. This is a common problem with a library to solve it for us, so here we go. Take two:"
   ]
  },
  {
   "cell_type": "code",
   "execution_count": 57,
   "metadata": {},
   "outputs": [
    {
     "name": "stdout",
     "output_type": "stream",
     "text": [
      "Score (training data) 1.0\n",
      "Score (test data) 0.87\n"
     ]
    }
   ],
   "source": [
    "from sklearn.preprocessing import StandardScaler\n",
    "\n",
    "# This will look at the maximum values and scale accordingly to keep inputs small and manageable\n",
    "scaler = StandardScaler()\n",
    "scaler.fit(X_train)\n",
    "X_train_scaled = scaler.transform(X_train)\n",
    "X_test_scaled = scaler.transform(X_test)\n",
    "\n",
    "model = MLPClassifier()\n",
    "model.fit(X_train_scaled, y_train)\n",
    "print('Score (training data)', model.score(X_train_scaled, y_train))\n",
    "print('Score (test data)', model.score(X_test_scaled, y_test))"
   ]
  },
  {
   "cell_type": "markdown",
   "metadata": {},
   "source": [
    "Bam. Top score right away:"
   ]
  },
  {
   "cell_type": "code",
   "execution_count": 60,
   "metadata": {},
   "outputs": [
    {
     "data": {
      "text/plain": [
       "3.53"
      ]
     },
     "execution_count": 60,
     "metadata": {},
     "output_type": "execute_result"
    }
   ],
   "source": [
    "cvs(model, pd.DataFrame(scaler.transform(X)), y)"
   ]
  },
  {
   "cell_type": "code",
   "execution_count": 66,
   "metadata": {},
   "outputs": [
    {
     "name": "stdout",
     "output_type": "stream",
     "text": [
      "Score (training data) 1.0\n",
      "Score (test data) 0.838\n"
     ]
    },
    {
     "data": {
      "text/plain": [
       "3.725"
      ]
     },
     "execution_count": 66,
     "metadata": {},
     "output_type": "execute_result"
    }
   ],
   "source": [
    "# And the parameters I used for the project.\n",
    "model = MLPClassifier(hidden_layer_sizes=(20, 20, 20), max_iter=1000)\n",
    "model.fit(X_train_scaled, y_train)\n",
    "print('Score (training data)', model.score(X_train_scaled, y_train))\n",
    "print('Score (test data)', model.score(X_test_scaled, y_test))\n",
    "cvs(model, pd.DataFrame(scaler.transform(X)), y)"
   ]
  },
  {
   "cell_type": "markdown",
   "metadata": {},
   "source": [
    "So why these parameters? Lets vary some things and show that this is the right choice:"
   ]
  },
  {
   "cell_type": "code",
   "execution_count": 67,
   "metadata": {},
   "outputs": [
    {
     "name": "stdout",
     "output_type": "stream",
     "text": [
      "Score (training data) 1.0\n",
      "Score (test data) 0.852\n"
     ]
    },
    {
     "data": {
      "text/plain": [
       "3.6700000000000004"
      ]
     },
     "execution_count": 67,
     "metadata": {},
     "output_type": "execute_result"
    }
   ],
   "source": [
    "# Less hidden layers\n",
    "model = MLPClassifier(hidden_layer_sizes=(20, 20), max_iter=1000)\n",
    "model.fit(X_train_scaled, y_train)\n",
    "print('Score (training data)', model.score(X_train_scaled, y_train))\n",
    "print('Score (test data)', model.score(X_test_scaled, y_test))\n",
    "cvs(model, pd.DataFrame(scaler.transform(X)), y)"
   ]
  },
  {
   "cell_type": "code",
   "execution_count": 68,
   "metadata": {},
   "outputs": [
    {
     "name": "stdout",
     "output_type": "stream",
     "text": [
      "Score (training data) 1.0\n",
      "Score (test data) 0.836\n"
     ]
    },
    {
     "data": {
      "text/plain": [
       "3.46"
      ]
     },
     "execution_count": 68,
     "metadata": {},
     "output_type": "execute_result"
    }
   ],
   "source": [
    "# Even less hidden layers\n",
    "model = MLPClassifier(hidden_layer_sizes=(20), max_iter=1000)\n",
    "model.fit(X_train_scaled, y_train)\n",
    "print('Score (training data)', model.score(X_train_scaled, y_train))\n",
    "print('Score (test data)', model.score(X_test_scaled, y_test))\n",
    "cvs(model, pd.DataFrame(scaler.transform(X)), y)"
   ]
  },
  {
   "cell_type": "code",
   "execution_count": 69,
   "metadata": {},
   "outputs": [
    {
     "name": "stdout",
     "output_type": "stream",
     "text": [
      "Score (training data) 1.0\n",
      "Score (test data) 0.842\n"
     ]
    },
    {
     "data": {
      "text/plain": [
       "3.6550000000000002"
      ]
     },
     "execution_count": 69,
     "metadata": {},
     "output_type": "execute_result"
    }
   ],
   "source": [
    "# More hidden layers\n",
    "model = MLPClassifier(hidden_layer_sizes=(20, 20, 20, 20), max_iter=1000)\n",
    "model.fit(X_train_scaled, y_train)\n",
    "print('Score (training data)', model.score(X_train_scaled, y_train))\n",
    "print('Score (test data)', model.score(X_test_scaled, y_test))\n",
    "cvs(model, pd.DataFrame(scaler.transform(X)), y)"
   ]
  },
  {
   "cell_type": "code",
   "execution_count": 73,
   "metadata": {},
   "outputs": [
    {
     "name": "stdout",
     "output_type": "stream",
     "text": [
      "Score (training data) 1.0\n",
      "Score (test data) 0.844\n"
     ]
    },
    {
     "data": {
      "text/plain": [
       "3.3375"
      ]
     },
     "execution_count": 73,
     "metadata": {},
     "output_type": "execute_result"
    }
   ],
   "source": [
    "# Even More hidden layers\n",
    "model = MLPClassifier(hidden_layer_sizes=(20, 20, 20, 20, 20), max_iter=1000)\n",
    "model.fit(X_train_scaled, y_train)\n",
    "print('Score (training data)', model.score(X_train_scaled, y_train))\n",
    "print('Score (test data)', model.score(X_test_scaled, y_test))\n",
    "cvs(model, pd.DataFrame(scaler.transform(X)), y)"
   ]
  },
  {
   "cell_type": "markdown",
   "metadata": {},
   "source": [
    "Let's just plot those results quickly, to drive my point home:"
   ]
  },
  {
   "cell_type": "code",
   "execution_count": 74,
   "metadata": {},
   "outputs": [
    {
     "data": {
      "text/plain": [
       "Text(0,0.5,'Score')"
      ]
     },
     "execution_count": 74,
     "metadata": {},
     "output_type": "execute_result"
    },
    {
     "data": {
      "image/png": "[encoded data removed]",
      "text/plain": [
       "<Figure size 432x288 with 1 Axes>"
      ]
     },
     "metadata": {},
     "output_type": "display_data"
    }
   ],
   "source": [
    "plt.plot([1, 2, 3, 4, 5], [3.46, 3.67, 3.725, 3.655, 3.337])\n",
    "plt.xlabel('Number of Hidden Layers')\n",
    "plt.ylabel('Score')"
   ]
  },
  {
   "cell_type": "code",
   "execution_count": 75,
   "metadata": {},
   "outputs": [
    {
     "data": {
      "text/plain": [
       "Text(0,0.5,'Score')"
      ]
     },
     "execution_count": 75,
     "metadata": {},
     "output_type": "execute_result"
    },
    {
     "data": {
      "image/png": "[encoded data removed]",
      "text/plain": [
       "<Figure size 432x288 with 1 Axes>"
      ]
     },
     "metadata": {},
     "output_type": "display_data"
    }
   ],
   "source": [
    "# Varying hidden layer size\n",
    "scores = []\n",
    "ns = [1, 3, 5, 10, 20, 50, 100]\n",
    "for n in ns:\n",
    "    model = MLPClassifier(hidden_layer_sizes=(n, n, n), max_iter=1000)\n",
    "    model.fit(X_train_scaled, y_train)\n",
    "    scores.append(cvs(model, pd.DataFrame(scaler.transform(X)), y))\n",
    "    \n",
    "plt.plot(ns, scores)\n",
    "plt.xlabel('Size of Hidden Layers')\n",
    "plt.ylabel('Score')"
   ]
  },
  {
   "cell_type": "markdown",
   "metadata": {},
   "source": [
    "Score stops improving around n=20. Any more, and we're making a model that is needlessly complicated. I haven't found a good rule of thumb for this. More complex tasks (eg image inference) need more neurons, very simple tasks do better with ~10 in each hidden layer. "
   ]
  },
  {
   "cell_type": "markdown",
   "metadata": {},
   "source": [
    "#### So, we have a model that outperforms the rest. We might be able to tweak the random forest model to match it's performance, or tweak the model further to squeeze some extra performance out of it. We could also try engineering extra features etc etc. But let's call it good enough, and see if we can use a similar model for some of the other problems we want to try and solve:"
   ]
  },
  {
   "cell_type": "markdown",
   "metadata": {},
   "source": [
    "## Task 2 - Regression (position inference)"
   ]
  },
  {
   "cell_type": "code",
   "execution_count": null,
   "metadata": {},
   "outputs": [],
   "source": [
    "# Load the data\n",
    "r8 = pd.read_csv('posinf8_500_readings.csv')"
   ]
  },
  {
   "cell_type": "markdown",
   "metadata": {},
   "source": []
  }
 ],
 "metadata": {
  "kernelspec": {
   "display_name": "Python 3",
   "language": "python",
   "name": "python3"
  },
  "language_info": {
   "codemirror_mode": {
    "name": "ipython",
    "version": 3
   },
   "file_extension": ".py",
   "mimetype": "text/x-python",
   "name": "python",
   "nbconvert_exporter": "python",
   "pygments_lexer": "ipython3",
   "version": "3.6.6"
  }
 },
 "nbformat": 4,
 "nbformat_minor": 2
}
