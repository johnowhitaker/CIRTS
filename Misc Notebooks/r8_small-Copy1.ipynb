{
 "cells": [
  {
   "cell_type": "code",
   "execution_count": 1,
   "metadata": {},
   "outputs": [],
   "source": [
    "import serial, time\n",
    "ser = serial.Serial('/dev/ttyACM0', 115200)"
   ]
  },
  {
   "cell_type": "code",
   "execution_count": 4,
   "metadata": {},
   "outputs": [],
   "source": [
    "def read_all():\n",
    "    r = ser.read_all() # clear buffer\n",
    "    ser.write(b'a')\n",
    "    while ser.in_waiting < 1:\n",
    "        pass # wait for a response\n",
    "    time.sleep(0.05)\n",
    "    r = ser.read_all()\n",
    "    t = str(r).split('A')[-1].strip()\n",
    "    r = [[int(s.strip('b\\'')) for s in str(l).split(',')[:8]] for l in str(r).split('A')[:-1]]\n",
    "    return(r, t)"
   ]
  },
  {
   "cell_type": "code",
   "execution_count": 6,
   "metadata": {},
   "outputs": [
    {
     "data": {
      "text/plain": [
       "array([[719, 727, 683, 481, 734, 725, 721, 719],\n",
       "       [735, 732, 520, 731, 709, 724, 707, 730],\n",
       "       [724, 724, 728, 680, 730, 724, 740, 724],\n",
       "       [740, 725, 716, 727, 545, 718, 735, 689],\n",
       "       [732, 721, 718, 717, 731, 683, 615, 726],\n",
       "       [591, 691, 708, 743, 721, 727, 717, 722],\n",
       "       [668, 485, 723, 729, 725, 727, 674, 733],\n",
       "       [702, 724, 727, 721, 733, 728, 717, 592]])"
      ]
     },
     "execution_count": 6,
     "metadata": {},
     "output_type": "execute_result"
    }
   ],
   "source": [
    "import numpy as np\n",
    "r, t = read_all()\n",
    "np.asarray(r)"
   ]
  },
  {
   "cell_type": "code",
   "execution_count": 7,
   "metadata": {},
   "outputs": [
    {
     "name": "stdout",
     "output_type": "stream",
     "text": [
      "[[729 726 683 489 724 724 719 728]\n",
      " [709 731 498 720 717 712 707 723]\n",
      " [728 721 722 679 744 738 712 730]\n",
      " [714 739 721 726 538 710 712 690]\n",
      " [740 731 725 738 737 682 621 735]\n",
      " [589 687 714 730 727 743 718 724]\n",
      " [674 473 716 721 740 715 685 721]\n",
      " [712 721 722 733 719 734 720 596]]\n"
     ]
    }
   ],
   "source": [
    "from IPython.display import clear_output\n",
    "for i in range(100):\n",
    "    r, t = read_all()\n",
    "    print(np.asarray(r))\n",
    "    time.sleep(0.1)\n",
    "    clear_output(wait=True)"
   ]
  },
  {
   "cell_type": "code",
   "execution_count": 231,
   "metadata": {},
   "outputs": [],
   "source": [
    "def read_av():\n",
    "    read = np.asarray(read_all()[0]).flatten()\n",
    "    for i in range(10):\n",
    "        read = read+(np.asarray(read_all()[0]).flatten())\n",
    "    return read/10"
   ]
  },
  {
   "cell_type": "code",
   "execution_count": 232,
   "metadata": {},
   "outputs": [],
   "source": [
    "base = read_all()[0]"
   ]
  },
  {
   "cell_type": "code",
   "execution_count": 233,
   "metadata": {},
   "outputs": [],
   "source": [
    "from matplotlib import pyplot as plt\n",
    "%matplotlib inline"
   ]
  },
  {
   "cell_type": "code",
   "execution_count": 234,
   "metadata": {},
   "outputs": [
    {
     "data": {
      "text/plain": [
       "<matplotlib.image.AxesImage at 0x7f894cc559e8>"
      ]
     },
     "execution_count": 234,
     "metadata": {},
     "output_type": "execute_result"
    },
    {
     "data": {
      "image/png": "[encoded data removed]",
      "text/plain": [
       "<Figure size 432x288 with 1 Axes>"
      ]
     },
     "metadata": {},
     "output_type": "display_data"
    }
   ],
   "source": [
    "read = read_all()[0]\n",
    "plt.imshow(np.asarray(base)-np.asarray(read))"
   ]
  },
  {
   "cell_type": "code",
   "execution_count": 27,
   "metadata": {},
   "outputs": [
    {
     "data": {
      "text/plain": [
       "[[874, 887, 885, 891, 701, 866, 883, 891],\n",
       " [890, 885, 885, 892, 866, 834, 788, 882],\n",
       " [864, 892, 881, 887, 878, 893, 791, 826],\n",
       " [769, 881, 895, 899, 873, 893, 889, 853],\n",
       " [872, 855, 885, 895, 873, 904, 881, 891],\n",
       " [890, 860, 824, 882, 889, 870, 872, 891],\n",
       " [864, 895, 872, 670, 888, 893, 862, 886],\n",
       " [874, 895, 895, 820, 842, 891, 892, 888]]"
      ]
     },
     "execution_count": 27,
     "metadata": {},
     "output_type": "execute_result"
    }
   ],
   "source": [
    "base"
   ]
  },
  {
   "cell_type": "markdown",
   "metadata": {},
   "source": [
    "# Image recon"
   ]
  },
  {
   "cell_type": "code",
   "execution_count": 235,
   "metadata": {},
   "outputs": [],
   "source": [
    "# Import required libraries\n",
    "from image_util import *\n",
    "import skimage.filters\n",
    "from matplotlib import pyplot as plt\n",
    "import cairocffi as cairo\n",
    "import math, random\n",
    "import numpy as np\n",
    "import pandas as pd\n",
    "from IPython.display import Image\n",
    "from scipy.interpolate import interp1d\n",
    "import astra\n",
    "\n",
    "%matplotlib inline\n",
    "\n",
    "def r8_to_sino(readings):\n",
    "    sino = []\n",
    "    for e in range(8):\n",
    "        start = e*8 + (e+2)%8\n",
    "        end = e*8 + (e+6)%8\n",
    "        if end-start == 4:\n",
    "            sino.append(readings[start : end])\n",
    "        else:\n",
    "            r = readings[start : (e+1)*8]\n",
    "            for p in readings[e*8 : end]:\n",
    "                r.append(p)\n",
    "            sino.append(r)\n",
    "    return np.asarray(sino)\n"
   ]
  },
  {
   "cell_type": "code",
   "execution_count": 281,
   "metadata": {},
   "outputs": [],
   "source": [
    "nviews = 8\n",
    "ndetectors = 4\n",
    "nvdetectors = 8\n",
    "\n",
    "IMSIZE = 50\n",
    "R = IMSIZE/2\n",
    "D = IMSIZE/2\n",
    "\n",
    "# Transforming from a round fan-beam to a fan-flat projection (See diagram)\n",
    "beta = np.linspace(math.pi/8, 7*math.pi/8, ndetectors)\n",
    "alpha = np.asarray([R*math.sin(b-math.pi/2)/(R**2 + D**2)**0.5 for b in beta])\n",
    "tau = np.asarray([(R+D)*math.tan(a) for a in alpha])\n",
    "\n",
    "tau_new = np.linspace(-(max(tau)/2), max(tau)/2, nvdetectors)\n",
    "\n",
    "vol_geom = astra.create_vol_geom(IMSIZE, IMSIZE)\n",
    "angles = np.linspace(0,2*math.pi,nviews);\n",
    "d_size = (tau[-1]-tau[0])/nvdetectors\n",
    "proj_geom= astra.create_proj_geom('fanflat', d_size, nvdetectors, angles, D, R);\n",
    "proj_id = astra.create_projector('line_fanflat', proj_geom, vol_geom)"
   ]
  },
  {
   "cell_type": "code",
   "execution_count": 296,
   "metadata": {},
   "outputs": [],
   "source": [
    "base = read_av()"
   ]
  },
  {
   "cell_type": "code",
   "execution_count": 297,
   "metadata": {},
   "outputs": [
    {
     "data": {
      "text/plain": [
       "array([[941. , 939.6, 964.4, 971.9, 958.5, 959.3, 962.8, 963.8],\n",
       "       [953.6, 924.8, 945.4, 959.8, 964.2, 958.7, 963.7, 962.9],\n",
       "       [987.8, 959.1, 930.4, 938.4, 959.2, 958. , 981.9, 960.9],\n",
       "       [991.4, 965.3, 975.7, 912.3, 921.2, 975.5, 975.5, 973.4],\n",
       "       [957.6, 973.9, 979.8, 966.5, 926.7, 889. , 979.2, 972.3],\n",
       "       [957.9, 966.4, 957.9, 973.2, 955.9, 901.2, 936.5, 958.9],\n",
       "       [954.9, 960.9, 977. , 961.7, 956.4, 956.3, 935. , 938.7],\n",
       "       [938.8, 960.6, 983.6, 955.1, 959. , 959.8, 962.5, 939. ]])"
      ]
     },
     "execution_count": 297,
     "metadata": {},
     "output_type": "execute_result"
    }
   ],
   "source": [
    "np.asarray(base).reshape(8,8)"
   ]
  },
  {
   "cell_type": "code",
   "execution_count": 309,
   "metadata": {},
   "outputs": [
    {
     "name": "stdout",
     "output_type": "stream",
     "text": [
      "0\n",
      "17.877346222440426\n",
      "CPU times: user 582 ms, sys: 310 ms, total: 891 ms\n",
      "Wall time: 972 ms\n"
     ]
    },
    {
     "data": {
      "image/png": "[encoded data removed]",
      "text/plain": [
       "<Figure size 1280x800 with 3 Axes>"
      ]
     },
     "metadata": {},
     "output_type": "display_data"
    }
   ],
   "source": [
    "%%time\n",
    "for i in range(1):\n",
    "    print(i)\n",
    "    r2 = read_av()\n",
    "    readings = (np.asarray(base)-np.asarray(r2))# - base\n",
    "    readings = r8_to_sino(readings.tolist()) # Get important ones and reorder\n",
    "    \n",
    "    readings2 = []\n",
    "    for r in readings:\n",
    "        f = interp1d(tau, r, kind='cubic') # Can change to linear\n",
    "        readings2.append(f(tau_new))\n",
    "        \n",
    "    \n",
    "    sinogram_id = astra.data2d.create('-sino', proj_geom, np.asarray(readings2))\n",
    "    \n",
    "    # Plotting sinogram - new (transformed) set of readings\n",
    "    plt.figure(num=None, figsize=(16, 10), dpi=80, facecolor='w', edgecolor='k')\n",
    "    ax1 = plt.subplot(1, 3, 1)\n",
    "    ax1.imshow(readings2) #<< Set title\n",
    "\n",
    "    # Doing the reconstruction, in this case with FBP\n",
    "\n",
    "    rec_id = astra.data2d.create('-vol', vol_geom)\n",
    "\n",
    "    cfg = astra.astra_dict('FBP')\n",
    "    cfg['ReconstructionDataId'] = rec_id\n",
    "    cfg['ProjectionDataId'] = sinogram_id\n",
    "    cfg['ProjectorId'] = proj_id\n",
    "\n",
    "    # Create the algorithm object from the configuration structure\n",
    "    alg_id = astra.algorithm.create(cfg)\n",
    "\n",
    "    astra.algorithm.run(alg_id, 1)\n",
    "\n",
    "    # Get the result\n",
    "    rec = astra.data2d.get(rec_id)\n",
    "    ax2 = plt.subplot(1, 3, 2)\n",
    "    ax2.imshow(rec)\n",
    "    norm_rec = rec/(np.amax(np.abs(rec)))\n",
    "    blurred = skimage.filters.gaussian(norm_rec, 3)\n",
    "    ax3 = plt.subplot(1, 3, 3)\n",
    "    ax3.imshow(blurred)\n",
    "    \n",
    "    plt.savefig('r8s'+str(i) + '.png')\n",
    "    print(max(np.asarray(readings2).flatten()))\n"
   ]
  },
  {
   "cell_type": "code",
   "execution_count": null,
   "metadata": {},
   "outputs": [],
   "source": [
    "# Clean up.\n",
    "astra.algorithm.delete(alg_id)\n",
    "astra.data2d.delete(rec_id)\n",
    "astra.data2d.delete(sinogram_id)\n",
    "astra.projector.delete(proj_id)"
   ]
  },
  {
   "cell_type": "code",
   "execution_count": null,
   "metadata": {},
   "outputs": [],
   "source": [
    "np.linspace(math.pi/8, 7*math.pi/8, ndetectors)"
   ]
  },
  {
   "cell_type": "code",
   "execution_count": null,
   "metadata": {},
   "outputs": [],
   "source": [
    "np.linspace(0, math.pi, ndetectors)"
   ]
  },
  {
   "cell_type": "code",
   "execution_count": null,
   "metadata": {},
   "outputs": [],
   "source": []
  },
  {
   "cell_type": "code",
   "execution_count": null,
   "metadata": {},
   "outputs": [],
   "source": []
  },
  {
   "cell_type": "code",
   "execution_count": 537,
   "metadata": {},
   "outputs": [],
   "source": [
    "r = []\n",
    "y = []\n",
    "y2 = []\n",
    "for i in range(50):\n",
    "    r.append(np.asarray(read_all()[0]).flatten())\n",
    "    y.append(0)\n",
    "    y2.append(0)"
   ]
  },
  {
   "cell_type": "code",
   "execution_count": 543,
   "metadata": {},
   "outputs": [],
   "source": [
    "for i in range(50):\n",
    "    r.append(np.asarray(read_all()[0]).flatten())\n",
    "    y.append(2)\n",
    "    y2.append(2)"
   ]
  },
  {
   "cell_type": "code",
   "execution_count": 548,
   "metadata": {},
   "outputs": [
    {
     "data": {
      "text/plain": [
       "1.0"
      ]
     },
     "execution_count": 548,
     "metadata": {},
     "output_type": "execute_result"
    }
   ],
   "source": [
    "from sklearn.model_selection import train_test_split\n",
    "from sklearn.ensemble import RandomForestRegressor\n",
    "from sklearn.ensemble import RandomForestClassifier\n",
    "\n",
    "X_train, X_test, y_train, y_test = train_test_split(r, y)\n",
    "\n",
    "regr = RandomForestClassifier(max_depth=5, random_state=0)\n",
    "regr.fit(X_train, y_train)\n",
    "regr.score(X_test, y_test)"
   ]
  },
  {
   "cell_type": "code",
   "execution_count": 473,
   "metadata": {},
   "outputs": [
    {
     "data": {
      "text/plain": [
       "array([2])"
      ]
     },
     "execution_count": 473,
     "metadata": {},
     "output_type": "execute_result"
    }
   ],
   "source": [
    "regr.predict([np.asarray(read_all()[0]).flatten()])"
   ]
  },
  {
   "cell_type": "code",
   "execution_count": null,
   "metadata": {},
   "outputs": [],
   "source": []
  },
  {
   "cell_type": "code",
   "execution_count": null,
   "metadata": {},
   "outputs": [],
   "source": []
  },
  {
   "cell_type": "code",
   "execution_count": null,
   "metadata": {},
   "outputs": [],
   "source": []
  },
  {
   "cell_type": "code",
   "execution_count": null,
   "metadata": {},
   "outputs": [],
   "source": []
  },
  {
   "cell_type": "code",
   "execution_count": null,
   "metadata": {},
   "outputs": [],
   "source": []
  },
  {
   "cell_type": "code",
   "execution_count": 556,
   "metadata": {},
   "outputs": [
    {
     "name": "stdout",
     "output_type": "stream",
     "text": [
      "0.9557522123893806\n"
     ]
    }
   ],
   "source": [
    "df = pd.read_csv('r8_small_rotation.csv')\n",
    "r = df[[str(i) for i in range(64)]]\n",
    "y = df['Y']\n",
    "\n",
    "from sklearn.neural_network import MLPClassifier, MLPRegressor\n",
    "X_train, X_test, y_train, y_test = train_test_split(r, y)\n",
    "\n",
    "scaler = StandardScaler()\n",
    "scaler.fit(X_train)\n",
    "X_train = scaler.transform(X_train)\n",
    "X_test = scaler.transform(X_test)\n",
    "\n",
    "mlpc = MLPClassifier(hidden_layer_sizes=(20, 20, 20), max_iter=400)\n",
    "mlpc.fit(X_train, y_train)\n",
    "print(mlpc.score(X_test, y_test))"
   ]
  },
  {
   "cell_type": "code",
   "execution_count": 557,
   "metadata": {},
   "outputs": [
    {
     "name": "stdout",
     "output_type": "stream",
     "text": [
      "[1]\n"
     ]
    },
    {
     "ename": "KeyboardInterrupt",
     "evalue": "",
     "output_type": "error",
     "traceback": [
      "\u001b[0;31m---------------------------------------------------------------------------\u001b[0m",
      "\u001b[0;31mKeyboardInterrupt\u001b[0m                         Traceback (most recent call last)",
      "\u001b[0;32m<ipython-input-557-8481e00aacf6>\u001b[0m in \u001b[0;36m<module>\u001b[0;34m()\u001b[0m\n\u001b[1;32m      5\u001b[0m     \u001b[0mread\u001b[0m \u001b[0;34m=\u001b[0m \u001b[0mscaler\u001b[0m\u001b[0;34m.\u001b[0m\u001b[0mtransform\u001b[0m\u001b[0;34m(\u001b[0m\u001b[0mread\u001b[0m\u001b[0;34m)\u001b[0m\u001b[0;34m\u001b[0m\u001b[0m\n\u001b[1;32m      6\u001b[0m     \u001b[0mprint\u001b[0m\u001b[0;34m(\u001b[0m\u001b[0mmlpc\u001b[0m\u001b[0;34m.\u001b[0m\u001b[0mpredict\u001b[0m\u001b[0;34m(\u001b[0m\u001b[0mread\u001b[0m\u001b[0;34m)\u001b[0m\u001b[0;34m)\u001b[0m\u001b[0;34m\u001b[0m\u001b[0m\n\u001b[0;32m----> 7\u001b[0;31m     \u001b[0mtime\u001b[0m\u001b[0;34m.\u001b[0m\u001b[0msleep\u001b[0m\u001b[0;34m(\u001b[0m\u001b[0;36m0.1\u001b[0m\u001b[0;34m)\u001b[0m\u001b[0;34m\u001b[0m\u001b[0m\n\u001b[0m\u001b[1;32m      8\u001b[0m     \u001b[0mclear_output\u001b[0m\u001b[0;34m(\u001b[0m\u001b[0mwait\u001b[0m\u001b[0;34m=\u001b[0m\u001b[0;32mTrue\u001b[0m\u001b[0;34m)\u001b[0m\u001b[0;34m\u001b[0m\u001b[0m\n",
      "\u001b[0;31mKeyboardInterrupt\u001b[0m: "
     ]
    }
   ],
   "source": [
    "from IPython.display import clear_output\n",
    "av = 0\n",
    "while True:\n",
    "    read = [np.asarray(read_all()[0]).flatten()]\n",
    "    read = scaler.transform(read)\n",
    "    print(mlpc.predict(read))\n",
    "    time.sleep(0.1)\n",
    "    clear_output(wait=True)"
   ]
  },
  {
   "cell_type": "code",
   "execution_count": 536,
   "metadata": {},
   "outputs": [
    {
     "data": {
      "text/plain": [
       "b''"
      ]
     },
     "execution_count": 536,
     "metadata": {},
     "output_type": "execute_result"
    }
   ],
   "source": [
    "ser.read_all()"
   ]
  },
  {
   "cell_type": "code",
   "execution_count": null,
   "metadata": {},
   "outputs": [],
   "source": []
  },
  {
   "cell_type": "code",
   "execution_count": null,
   "metadata": {},
   "outputs": [],
   "source": []
  },
  {
   "cell_type": "code",
   "execution_count": null,
   "metadata": {},
   "outputs": [],
   "source": []
  },
  {
   "cell_type": "code",
   "execution_count": null,
   "metadata": {},
   "outputs": [],
   "source": []
  },
  {
   "cell_type": "code",
   "execution_count": null,
   "metadata": {},
   "outputs": [],
   "source": []
  },
  {
   "cell_type": "code",
   "execution_count": null,
   "metadata": {},
   "outputs": [],
   "source": []
  },
  {
   "cell_type": "code",
   "execution_count": null,
   "metadata": {},
   "outputs": [],
   "source": []
  },
  {
   "cell_type": "code",
   "execution_count": null,
   "metadata": {},
   "outputs": [],
   "source": []
  },
  {
   "cell_type": "code",
   "execution_count": null,
   "metadata": {},
   "outputs": [],
   "source": []
  },
  {
   "cell_type": "code",
   "execution_count": null,
   "metadata": {},
   "outputs": [],
   "source": []
  },
  {
   "cell_type": "code",
   "execution_count": null,
   "metadata": {},
   "outputs": [],
   "source": []
  },
  {
   "cell_type": "code",
   "execution_count": null,
   "metadata": {},
   "outputs": [],
   "source": []
  },
  {
   "cell_type": "code",
   "execution_count": null,
   "metadata": {},
   "outputs": [],
   "source": []
  },
  {
   "cell_type": "code",
   "execution_count": null,
   "metadata": {},
   "outputs": [],
   "source": []
  },
  {
   "cell_type": "code",
   "execution_count": null,
   "metadata": {},
   "outputs": [],
   "source": []
  },
  {
   "cell_type": "code",
   "execution_count": null,
   "metadata": {},
   "outputs": [],
   "source": []
  },
  {
   "cell_type": "code",
   "execution_count": null,
   "metadata": {},
   "outputs": [],
   "source": []
  },
  {
   "cell_type": "code",
   "execution_count": 464,
   "metadata": {},
   "outputs": [
    {
     "data": {
      "text/html": [
       "<div>\n",
       "<style scoped>\n",
       "    .dataframe tbody tr th:only-of-type {\n",
       "        vertical-align: middle;\n",
       "    }\n",
       "\n",
       "    .dataframe tbody tr th {\n",
       "        vertical-align: top;\n",
       "    }\n",
       "\n",
       "    .dataframe thead th {\n",
       "        text-align: right;\n",
       "    }\n",
       "</style>\n",
       "<table border=\"1\" class=\"dataframe\">\n",
       "  <thead>\n",
       "    <tr style=\"text-align: right;\">\n",
       "      <th></th>\n",
       "      <th>0</th>\n",
       "      <th>1</th>\n",
       "      <th>2</th>\n",
       "      <th>3</th>\n",
       "      <th>4</th>\n",
       "      <th>5</th>\n",
       "      <th>6</th>\n",
       "      <th>7</th>\n",
       "      <th>8</th>\n",
       "      <th>9</th>\n",
       "      <th>...</th>\n",
       "      <th>54</th>\n",
       "      <th>55</th>\n",
       "      <th>56</th>\n",
       "      <th>57</th>\n",
       "      <th>58</th>\n",
       "      <th>59</th>\n",
       "      <th>60</th>\n",
       "      <th>61</th>\n",
       "      <th>62</th>\n",
       "      <th>63</th>\n",
       "    </tr>\n",
       "  </thead>\n",
       "  <tbody>\n",
       "    <tr>\n",
       "      <th>0</th>\n",
       "      <td>853</td>\n",
       "      <td>854</td>\n",
       "      <td>882</td>\n",
       "      <td>873</td>\n",
       "      <td>874</td>\n",
       "      <td>907</td>\n",
       "      <td>897</td>\n",
       "      <td>875</td>\n",
       "      <td>867</td>\n",
       "      <td>854</td>\n",
       "      <td>...</td>\n",
       "      <td>850</td>\n",
       "      <td>852</td>\n",
       "      <td>856</td>\n",
       "      <td>873</td>\n",
       "      <td>883</td>\n",
       "      <td>863</td>\n",
       "      <td>873</td>\n",
       "      <td>872</td>\n",
       "      <td>872</td>\n",
       "      <td>846</td>\n",
       "    </tr>\n",
       "    <tr>\n",
       "      <th>1</th>\n",
       "      <td>860</td>\n",
       "      <td>854</td>\n",
       "      <td>882</td>\n",
       "      <td>872</td>\n",
       "      <td>871</td>\n",
       "      <td>876</td>\n",
       "      <td>881</td>\n",
       "      <td>876</td>\n",
       "      <td>866</td>\n",
       "      <td>854</td>\n",
       "      <td>...</td>\n",
       "      <td>851</td>\n",
       "      <td>854</td>\n",
       "      <td>855</td>\n",
       "      <td>896</td>\n",
       "      <td>889</td>\n",
       "      <td>863</td>\n",
       "      <td>897</td>\n",
       "      <td>871</td>\n",
       "      <td>875</td>\n",
       "      <td>854</td>\n",
       "    </tr>\n",
       "    <tr>\n",
       "      <th>2</th>\n",
       "      <td>860</td>\n",
       "      <td>853</td>\n",
       "      <td>882</td>\n",
       "      <td>874</td>\n",
       "      <td>870</td>\n",
       "      <td>874</td>\n",
       "      <td>868</td>\n",
       "      <td>876</td>\n",
       "      <td>867</td>\n",
       "      <td>854</td>\n",
       "      <td>...</td>\n",
       "      <td>851</td>\n",
       "      <td>854</td>\n",
       "      <td>855</td>\n",
       "      <td>874</td>\n",
       "      <td>864</td>\n",
       "      <td>865</td>\n",
       "      <td>874</td>\n",
       "      <td>870</td>\n",
       "      <td>872</td>\n",
       "      <td>854</td>\n",
       "    </tr>\n",
       "    <tr>\n",
       "      <th>3</th>\n",
       "      <td>861</td>\n",
       "      <td>854</td>\n",
       "      <td>885</td>\n",
       "      <td>873</td>\n",
       "      <td>870</td>\n",
       "      <td>874</td>\n",
       "      <td>881</td>\n",
       "      <td>877</td>\n",
       "      <td>868</td>\n",
       "      <td>854</td>\n",
       "      <td>...</td>\n",
       "      <td>852</td>\n",
       "      <td>854</td>\n",
       "      <td>856</td>\n",
       "      <td>874</td>\n",
       "      <td>885</td>\n",
       "      <td>863</td>\n",
       "      <td>877</td>\n",
       "      <td>871</td>\n",
       "      <td>874</td>\n",
       "      <td>854</td>\n",
       "    </tr>\n",
       "    <tr>\n",
       "      <th>4</th>\n",
       "      <td>859</td>\n",
       "      <td>854</td>\n",
       "      <td>882</td>\n",
       "      <td>873</td>\n",
       "      <td>871</td>\n",
       "      <td>897</td>\n",
       "      <td>881</td>\n",
       "      <td>877</td>\n",
       "      <td>866</td>\n",
       "      <td>854</td>\n",
       "      <td>...</td>\n",
       "      <td>850</td>\n",
       "      <td>854</td>\n",
       "      <td>855</td>\n",
       "      <td>874</td>\n",
       "      <td>888</td>\n",
       "      <td>898</td>\n",
       "      <td>903</td>\n",
       "      <td>872</td>\n",
       "      <td>874</td>\n",
       "      <td>845</td>\n",
       "    </tr>\n",
       "  </tbody>\n",
       "</table>\n",
       "<p>5 rows × 64 columns</p>\n",
       "</div>"
      ],
      "text/plain": [
       "    0    1    2    3    4    5    6    7    8    9  ...    54   55   56   57  \\\n",
       "0  853  854  882  873  874  907  897  875  867  854 ...   850  852  856  873   \n",
       "1  860  854  882  872  871  876  881  876  866  854 ...   851  854  855  896   \n",
       "2  860  853  882  874  870  874  868  876  867  854 ...   851  854  855  874   \n",
       "3  861  854  885  873  870  874  881  877  868  854 ...   852  854  856  874   \n",
       "4  859  854  882  873  871  897  881  877  866  854 ...   850  854  855  874   \n",
       "\n",
       "    58   59   60   61   62   63  \n",
       "0  883  863  873  872  872  846  \n",
       "1  889  863  897  871  875  854  \n",
       "2  864  865  874  870  872  854  \n",
       "3  885  863  877  871  874  854  \n",
       "4  888  898  903  872  874  845  \n",
       "\n",
       "[5 rows x 64 columns]"
      ]
     },
     "execution_count": 464,
     "metadata": {},
     "output_type": "execute_result"
    }
   ],
   "source": [
    "import pandas as pd\n",
    "df1 = pd.DataFrame(r)\n",
    "df1.head()"
   ]
  },
  {
   "cell_type": "code",
   "execution_count": 465,
   "metadata": {},
   "outputs": [
    {
     "data": {
      "text/html": [
       "<div>\n",
       "<style scoped>\n",
       "    .dataframe tbody tr th:only-of-type {\n",
       "        vertical-align: middle;\n",
       "    }\n",
       "\n",
       "    .dataframe tbody tr th {\n",
       "        vertical-align: top;\n",
       "    }\n",
       "\n",
       "    .dataframe thead th {\n",
       "        text-align: right;\n",
       "    }\n",
       "</style>\n",
       "<table border=\"1\" class=\"dataframe\">\n",
       "  <thead>\n",
       "    <tr style=\"text-align: right;\">\n",
       "      <th></th>\n",
       "      <th>0</th>\n",
       "      <th>1</th>\n",
       "      <th>2</th>\n",
       "      <th>3</th>\n",
       "      <th>4</th>\n",
       "      <th>5</th>\n",
       "      <th>6</th>\n",
       "      <th>7</th>\n",
       "      <th>8</th>\n",
       "      <th>9</th>\n",
       "      <th>...</th>\n",
       "      <th>55</th>\n",
       "      <th>56</th>\n",
       "      <th>57</th>\n",
       "      <th>58</th>\n",
       "      <th>59</th>\n",
       "      <th>60</th>\n",
       "      <th>61</th>\n",
       "      <th>62</th>\n",
       "      <th>63</th>\n",
       "      <th>Y</th>\n",
       "    </tr>\n",
       "  </thead>\n",
       "  <tbody>\n",
       "    <tr>\n",
       "      <th>0</th>\n",
       "      <td>853</td>\n",
       "      <td>854</td>\n",
       "      <td>882</td>\n",
       "      <td>873</td>\n",
       "      <td>874</td>\n",
       "      <td>907</td>\n",
       "      <td>897</td>\n",
       "      <td>875</td>\n",
       "      <td>867</td>\n",
       "      <td>854</td>\n",
       "      <td>...</td>\n",
       "      <td>852</td>\n",
       "      <td>856</td>\n",
       "      <td>873</td>\n",
       "      <td>883</td>\n",
       "      <td>863</td>\n",
       "      <td>873</td>\n",
       "      <td>872</td>\n",
       "      <td>872</td>\n",
       "      <td>846</td>\n",
       "      <td>0</td>\n",
       "    </tr>\n",
       "    <tr>\n",
       "      <th>1</th>\n",
       "      <td>860</td>\n",
       "      <td>854</td>\n",
       "      <td>882</td>\n",
       "      <td>872</td>\n",
       "      <td>871</td>\n",
       "      <td>876</td>\n",
       "      <td>881</td>\n",
       "      <td>876</td>\n",
       "      <td>866</td>\n",
       "      <td>854</td>\n",
       "      <td>...</td>\n",
       "      <td>854</td>\n",
       "      <td>855</td>\n",
       "      <td>896</td>\n",
       "      <td>889</td>\n",
       "      <td>863</td>\n",
       "      <td>897</td>\n",
       "      <td>871</td>\n",
       "      <td>875</td>\n",
       "      <td>854</td>\n",
       "      <td>0</td>\n",
       "    </tr>\n",
       "    <tr>\n",
       "      <th>2</th>\n",
       "      <td>860</td>\n",
       "      <td>853</td>\n",
       "      <td>882</td>\n",
       "      <td>874</td>\n",
       "      <td>870</td>\n",
       "      <td>874</td>\n",
       "      <td>868</td>\n",
       "      <td>876</td>\n",
       "      <td>867</td>\n",
       "      <td>854</td>\n",
       "      <td>...</td>\n",
       "      <td>854</td>\n",
       "      <td>855</td>\n",
       "      <td>874</td>\n",
       "      <td>864</td>\n",
       "      <td>865</td>\n",
       "      <td>874</td>\n",
       "      <td>870</td>\n",
       "      <td>872</td>\n",
       "      <td>854</td>\n",
       "      <td>0</td>\n",
       "    </tr>\n",
       "    <tr>\n",
       "      <th>3</th>\n",
       "      <td>861</td>\n",
       "      <td>854</td>\n",
       "      <td>885</td>\n",
       "      <td>873</td>\n",
       "      <td>870</td>\n",
       "      <td>874</td>\n",
       "      <td>881</td>\n",
       "      <td>877</td>\n",
       "      <td>868</td>\n",
       "      <td>854</td>\n",
       "      <td>...</td>\n",
       "      <td>854</td>\n",
       "      <td>856</td>\n",
       "      <td>874</td>\n",
       "      <td>885</td>\n",
       "      <td>863</td>\n",
       "      <td>877</td>\n",
       "      <td>871</td>\n",
       "      <td>874</td>\n",
       "      <td>854</td>\n",
       "      <td>0</td>\n",
       "    </tr>\n",
       "    <tr>\n",
       "      <th>4</th>\n",
       "      <td>859</td>\n",
       "      <td>854</td>\n",
       "      <td>882</td>\n",
       "      <td>873</td>\n",
       "      <td>871</td>\n",
       "      <td>897</td>\n",
       "      <td>881</td>\n",
       "      <td>877</td>\n",
       "      <td>866</td>\n",
       "      <td>854</td>\n",
       "      <td>...</td>\n",
       "      <td>854</td>\n",
       "      <td>855</td>\n",
       "      <td>874</td>\n",
       "      <td>888</td>\n",
       "      <td>898</td>\n",
       "      <td>903</td>\n",
       "      <td>872</td>\n",
       "      <td>874</td>\n",
       "      <td>845</td>\n",
       "      <td>0</td>\n",
       "    </tr>\n",
       "  </tbody>\n",
       "</table>\n",
       "<p>5 rows × 65 columns</p>\n",
       "</div>"
      ],
      "text/plain": [
       "     0    1    2    3    4    5    6    7    8    9 ...   55   56   57   58  \\\n",
       "0  853  854  882  873  874  907  897  875  867  854 ...  852  856  873  883   \n",
       "1  860  854  882  872  871  876  881  876  866  854 ...  854  855  896  889   \n",
       "2  860  853  882  874  870  874  868  876  867  854 ...  854  855  874  864   \n",
       "3  861  854  885  873  870  874  881  877  868  854 ...  854  856  874  885   \n",
       "4  859  854  882  873  871  897  881  877  866  854 ...  854  855  874  888   \n",
       "\n",
       "    59   60   61   62   63  Y  \n",
       "0  863  873  872  872  846  0  \n",
       "1  863  897  871  875  854  0  \n",
       "2  865  874  870  872  854  0  \n",
       "3  863  877  871  874  854  0  \n",
       "4  898  903  872  874  845  0  \n",
       "\n",
       "[5 rows x 65 columns]"
      ]
     },
     "execution_count": 465,
     "metadata": {},
     "output_type": "execute_result"
    }
   ],
   "source": [
    "df1['Y'] = y\n",
    "df1.head()"
   ]
  },
  {
   "cell_type": "code",
   "execution_count": 466,
   "metadata": {},
   "outputs": [],
   "source": [
    "df1.to_csv('r8_small_rotation.csv', index=False)"
   ]
  },
  {
   "cell_type": "code",
   "execution_count": null,
   "metadata": {},
   "outputs": [],
   "source": []
  }
 ],
 "metadata": {
  "kernelspec": {
   "display_name": "Python 3",
   "language": "python",
   "name": "python3"
  },
  "language_info": {
   "codemirror_mode": {
    "name": "ipython",
    "version": 3
   },
   "file_extension": ".py",
   "mimetype": "text/x-python",
   "name": "python",
   "nbconvert_exporter": "python",
   "pygments_lexer": "ipython3",
   "version": "3.6.6"
  }
 },
 "nbformat": 4,
 "nbformat_minor": 2
}
