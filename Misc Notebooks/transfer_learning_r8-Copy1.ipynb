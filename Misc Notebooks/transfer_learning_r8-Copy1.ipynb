{
 "cells": [
  {
   "cell_type": "code",
   "execution_count": 1,
   "metadata": {},
   "outputs": [
    {
     "name": "stderr",
     "output_type": "stream",
     "text": [
      "/home/jonathan/.local/lib/python3.6/site-packages/sklearn/ensemble/weight_boosting.py:29: DeprecationWarning: numpy.core.umath_tests is an internal NumPy module and should not be imported. It will be removed in a future NumPy release.\n",
      "  from numpy.core.umath_tests import inner1d\n"
     ]
    }
   ],
   "source": [
    "import skimage.io\n",
    "from matplotlib import pyplot as plt\n",
    "import cairocffi as cairo\n",
    "import math, random\n",
    "import numpy as np\n",
    "import pandas as pd\n",
    "from IPython.display import Image\n",
    "from scipy.interpolate import interp1d\n",
    "import astra\n",
    "\n",
    "from sklearn.preprocessing import StandardScaler\n",
    "from sklearn.neural_network import MLPRegressor\n",
    "from sklearn.neural_network import MLPRegressor\n",
    "from sklearn.preprocessing import StandardScaler\n",
    "from sklearn.model_selection import train_test_split\n",
    "from sklearn.ensemble import RandomForestRegressor\n",
    "\n",
    "from skimage.transform import iradon\n",
    "\n",
    "import seaborn as sns\n",
    "\n",
    "%matplotlib inline\n",
    "\n",
    "# Drae a set of emitters and detectors\n",
    "\n",
    "# Get a point as a pixel location\n",
    "def point_to_pixel(x, y, w, h):\n",
    "    xp = int(min(w-1, (x*(w/2) + w/2))) # Avoid going out of bounds\n",
    "    yp = int(min(h-1, (-y*(h/2) + h/2)))\n",
    "    return xp, yp\n",
    "\n",
    "# Floating point version (for interpolation methods later)\n",
    "def point_to_pixelf(x, y, w, h):\n",
    "    xp = (min(w-1, (x*(w/2) + w/2))) # Avoid going out of bounds - a little less accurate but hey\n",
    "    yp = (min(h-1, (-y*(h/2) + h/2)))\n",
    "    return xp, yp\n",
    "\n",
    "def draw_des(ds, es, width, height):\n",
    "\n",
    "    ## Cairo STUFF\n",
    "\n",
    "    surface = cairo.ImageSurface (cairo.FORMAT_ARGB32, width, height)\n",
    "    ctx = cairo.Context (surface)\n",
    "\n",
    "    ctx.set_source_rgb(1,1,1)\n",
    "    ctx.rectangle(0,0,width,height)\n",
    "    ctx.fill()\n",
    "\n",
    "    def circle(ctx, x, y, size):\n",
    "        ctx.arc(x, y, size, 0, 2 * math.pi)\n",
    "\n",
    "    ## Back to the good stuff\n",
    "\n",
    "    # Connect detectors to emitters\n",
    "    ctx.set_line_width(2)\n",
    "    ctx.set_source_rgb(0, 0.5, 0)\n",
    "    for e in es:\n",
    "        for d in ds:\n",
    "            ctx.move_to(*point_to_pixel(e['r']*math.cos(e['a']), e['r']*math.sin(e['a']), width, height)) # Wow that's a nifty trick!!\n",
    "            ctx.line_to(*point_to_pixel(d['r']*math.cos(d['a']), d['r']*math.sin(d['a']), width, height))\n",
    "    ctx.stroke()\n",
    "\n",
    "    # Draw detectors\n",
    "    ctx.set_source_rgb(0, 0, 1)\n",
    "    for d in ds:\n",
    "        cx, cy = point_to_pixel(d['r']*math.cos(d['a']), d['r']*math.sin(d['a']), width, height)\n",
    "        circle(ctx, cx, cy, 20)\n",
    "        ctx.fill()\n",
    "        ctx.stroke()\n",
    "#         print(cx, cy)\n",
    "\n",
    "    # Draw Emitters\n",
    "    ctx.set_source_rgb(1, 0, 1)\n",
    "    for e in es:\n",
    "        cx, cy = point_to_pixel(e['r']*math.cos(e['a']), e['r']*math.sin(e['a']), width, height)\n",
    "        circle(ctx, cx, cy, 10)\n",
    "        ctx.fill()\n",
    "        ctx.stroke()\n",
    "#         print(cx, cy)\n",
    "        \n",
    "    return surface\n",
    "\n",
    "def draw_des_surf(surface, ds, es, width, height):\n",
    "    ctx = cairo.Context (surface)\n",
    "    def circle(ctx, x, y, size):\n",
    "        ctx.arc(x, y, size, 0, 2 * math.pi)\n",
    "    # Connect detectors to emitters\n",
    "    ctx.set_line_width(2)\n",
    "    ctx.set_source_rgb(0, 0.5, 0)\n",
    "    for e in es:\n",
    "        for d in ds:\n",
    "            ctx.move_to(*point_to_pixel(e['r']*math.cos(e['a']), e['r']*math.sin(e['a']), width, height)) # Wow that's a nifty trick!!\n",
    "            ctx.line_to(*point_to_pixel(d['r']*math.cos(d['a']), d['r']*math.sin(d['a']), width, height))\n",
    "    ctx.stroke()\n",
    "    # Draw detectors\n",
    "    ctx.set_source_rgb(0, 0, 1)\n",
    "    for d in ds:\n",
    "        cx, cy = point_to_pixel(d['r']*math.cos(d['a']), d['r']*math.sin(d['a']), width, height)\n",
    "        circle(ctx, cx, cy, 20)\n",
    "        ctx.fill()\n",
    "        ctx.stroke()\n",
    "    # Draw Emitters\n",
    "    ctx.set_source_rgb(1, 0, 1)\n",
    "    for e in es:\n",
    "        cx, cy = point_to_pixel(e['r']*math.cos(e['a']), e['r']*math.sin(e['a']), width, height)\n",
    "        circle(ctx, cx, cy, 10)\n",
    "        ctx.fill()\n",
    "        ctx.stroke()\n",
    "        \n",
    "    return surface\n",
    "\n",
    "def get_paths(img, ds, es, width, height):\n",
    "    # Does interpolation along all paths from emitters to detectors, given an image, detectors and emitters\n",
    "    lines = []\n",
    "    for e in es:\n",
    "        for d in ds:\n",
    "            y0, x0 = point_to_pixel(e['r']*math.cos(e['a']), e['r']*math.sin(e['a']), width, height) # E loc\n",
    "            y1, x1 = point_to_pixel(d['r']*math.cos(d['a']), d['r']*math.sin(d['a']), width, height) # d loc\n",
    "\n",
    "            # Make samplng points\n",
    "            length = int(np.hypot(x1-x0, y1-y0))\n",
    "            x, y = np.linspace(x0, x1, length), np.linspace(y0, y1, length)\n",
    "\n",
    "            # Extract the values along the line\n",
    "            zi = img[x.astype(np.int), y.astype(np.int)]\n",
    "            lines.append(sum(zi))\n",
    "    return lines\n",
    "\n",
    "def test_image(w, h, r, x, y):\n",
    "    surface = cairo.ImageSurface (cairo.FORMAT_ARGB32, w, h)\n",
    "    ctx = cairo.Context (surface)\n",
    "    ctx.set_source_rgb(0, 0, 0)\n",
    "    ctx.rectangle(0,0,w,h)\n",
    "    ctx.fill()\n",
    "    xp, yp = point_to_pixel(x, y, w, h)\n",
    "#     xp -= r\n",
    "#     yp -= r # Subtract the radius\n",
    "    ctx.set_source_rgb(1, 1, 1)\n",
    "    ctx.arc(xp, yp, r, 0, 2 * math.pi)\n",
    "    ctx.fill()\n",
    "    ctx.stroke()\n",
    "    buf  = np.frombuffer(surface.get_data(), np.uint8)\n",
    "    img = buf.reshape(w, h, 4)[:,:,0]\n",
    "    return surface, img, x, y"
   ]
  },
  {
   "cell_type": "markdown",
   "metadata": {},
   "source": [
    "## Read in the dataset\n",
    "This consists of 500 sets of readings taken in different positions"
   ]
  },
  {
   "cell_type": "code",
   "execution_count": 2,
   "metadata": {},
   "outputs": [],
   "source": [
    "r8 = pd.read_csv('posinf8_500_readings.csv') # The readings taken experimentally"
   ]
  },
  {
   "cell_type": "markdown",
   "metadata": {},
   "source": [
    "# Specify the emitter and detector locations. These have to match the orientation and order of the experiment. Hence the angle offset and -ve direction vs other examples"
   ]
  },
  {
   "cell_type": "code",
   "execution_count": 3,
   "metadata": {},
   "outputs": [],
   "source": [
    "es = []\n",
    "ds = []\n",
    "\n",
    "off = 7*math.pi/8 # Found iteratively. Can refine\n",
    "\n",
    "for i in range(8):\n",
    "    d = {\n",
    "        'r':1, # Distance from center relative to furthest object\n",
    "        'a':off - math.pi*(i+0.5)/4, #2*math.pi*i/8,\n",
    "    }\n",
    "    e = {\n",
    "        'r':1, # Distance from center relative to furthest object\n",
    "        'a':off - math.pi*(i)/4, #2*math.pi*i/8,\n",
    "    }\n",
    "    ds.append(d)\n",
    "    es.append(e)"
   ]
  },
  {
   "cell_type": "markdown",
   "metadata": {},
   "source": [
    "# Take 500 simulated sets of readings with the same (translated) positions as the experiment. These should correlate with the experimental values."
   ]
  },
  {
   "cell_type": "code",
   "execution_count": 4,
   "metadata": {},
   "outputs": [],
   "source": [
    "paths = []\n",
    "pos = r8[['X', 'Y']].values\n",
    "for p in pos:\n",
    "    xp, yp = (p[0]-2.5)/2.5, (p[1]-2.5)/2.5\n",
    "    s, i, x, y = test_image(500, 500, 70, xp, yp)\n",
    "    path = get_paths(i, ds, es, 500, 500)\n",
    "    paths.append(path)\n",
    "r8sim = pd.DataFrame(paths)\n",
    "\n",
    "a = r8sim[[i for i in range(64)]].values\n",
    "b = r8[[str(i+8) for i in range(64)]].values"
   ]
  },
  {
   "cell_type": "markdown",
   "metadata": {},
   "source": [
    "## Finding the correlation:\n",
    "We must get the difference between the base readings and the others. b2 becomes our R vector. we want S to correlate. Using S = log(a+1) to log transform the simulated values."
   ]
  },
  {
   "cell_type": "code",
   "execution_count": 5,
   "metadata": {},
   "outputs": [
    {
     "data": {
      "text/plain": [
       "0.41517613844317125"
      ]
     },
     "execution_count": 5,
     "metadata": {},
     "output_type": "execute_result"
    }
   ],
   "source": [
    "base = np.mean(r8[[str(i) for i in range(8)]]).values\n",
    "b2 = []\n",
    "for rs in b:\n",
    "    r2s = []\n",
    "    for i in range(64):\n",
    "        r2s.append(base[(i)%8] - rs[i])\n",
    "    b2.append(r2s)\n",
    "corr = np.mean([np.corrcoef(b2[x],np.log(a[x]+1))[0][1] for x in range(50)])\n",
    "corr"
   ]
  },
  {
   "cell_type": "markdown",
   "metadata": {},
   "source": [
    "## Plotting real vs sim, we see they sort of line up! "
   ]
  },
  {
   "cell_type": "code",
   "execution_count": 6,
   "metadata": {},
   "outputs": [
    {
     "data": {
      "text/plain": [
       "[<matplotlib.lines.Line2D at 0x7fa255d36c88>]"
      ]
     },
     "execution_count": 6,
     "metadata": {},
     "output_type": "execute_result"
    },
    {
     "data": {
      "image/png": "[encoded data removed]",
      "text/plain": [
       "<Figure size 432x288 with 1 Axes>"
      ]
     },
     "metadata": {},
     "output_type": "display_data"
    }
   ],
   "source": [
    "plt.plot(b2[4])\n",
    "plt.plot(np.log(a[4]+1)*10)"
   ]
  },
  {
   "cell_type": "code",
   "execution_count": 7,
   "metadata": {},
   "outputs": [
    {
     "data": {
      "text/plain": [
       "[<matplotlib.lines.Line2D at 0x7fa207c450f0>]"
      ]
     },
     "execution_count": 7,
     "metadata": {},
     "output_type": "execute_result"
    },
    {
     "data": {
      "image/png": "[encoded data removed]",
      "text/plain": [
       "<Figure size 432x288 with 1 Axes>"
      ]
     },
     "metadata": {},
     "output_type": "display_data"
    }
   ],
   "source": [
    "plt.plot(b2[9])\n",
    "plt.plot(np.log(a[9]+1)*10)"
   ]
  },
  {
   "cell_type": "markdown",
   "metadata": {},
   "source": [
    "## To improve this and account for LED non-linearities etc, we get a scaling matrix to better map sim -> real"
   ]
  },
  {
   "cell_type": "code",
   "execution_count": 8,
   "metadata": {},
   "outputs": [],
   "source": [
    "a2 = np.asarray([np.log(a[i]+1)+7 for i in range(len(a))])\n",
    "# print(a2.shape)\n",
    "sfs = np.asarray(b2)/a2\n",
    "# print(sfs.shape)\n",
    "sf = [] # scaling factors\n",
    "for i in range(64):\n",
    "    sf.append(np.mean([sfs[n][i] for n in range(500)]))"
   ]
  },
  {
   "cell_type": "markdown",
   "metadata": {},
   "source": [
    "sf now contains a set of scaling factors. Multiplying a2 by sf gives a3 (s3 in paper notes), which is now highly correlated to b3 (R)"
   ]
  },
  {
   "cell_type": "code",
   "execution_count": 9,
   "metadata": {},
   "outputs": [
    {
     "data": {
      "text/plain": [
       "[<matplotlib.lines.Line2D at 0x7fa207b71240>]"
      ]
     },
     "execution_count": 9,
     "metadata": {},
     "output_type": "execute_result"
    },
    {
     "data": {
      "image/png": "[encoded data removed]",
      "text/plain": [
       "<Figure size 432x288 with 1 Axes>"
      ]
     },
     "metadata": {},
     "output_type": "display_data"
    }
   ],
   "source": [
    "a3 = (a2*sf) # transformed, scaled simulated readings\n",
    "b3 = np.asarray(b2) # experimental readings (ref to base)\n",
    "\n",
    "# Plotting an example:\n",
    "plt.plot(a3[2]) # Add legend\n",
    "plt.plot(b3[2])\n",
    "plt.plot((a2)[2]) # The unscaled sim values"
   ]
  },
  {
   "cell_type": "code",
   "execution_count": 10,
   "metadata": {},
   "outputs": [
    {
     "data": {
      "text/plain": [
       "0.8356664226161561"
      ]
     },
     "execution_count": 10,
     "metadata": {},
     "output_type": "execute_result"
    }
   ],
   "source": [
    "# The correlation:\n",
    "np.mean([np.corrcoef(b3[x],a3[x])[0][1] for x in range(500)])"
   ]
  },
  {
   "cell_type": "code",
   "execution_count": null,
   "metadata": {},
   "outputs": [],
   "source": []
  },
  {
   "cell_type": "markdown",
   "metadata": {},
   "source": [
    "# Now for the fun bit"
   ]
  },
  {
   "cell_type": "markdown",
   "metadata": {},
   "source": [
    "Building a model with the transformed, simulated readings. We'll just try to predict X location for simplicity and plotting."
   ]
  },
  {
   "cell_type": "code",
   "execution_count": 11,
   "metadata": {},
   "outputs": [
    {
     "data": {
      "text/plain": [
       "MLPRegressor(activation='relu', alpha=0.0001, batch_size='auto', beta_1=0.9,\n",
       "       beta_2=0.999, early_stopping=False, epsilon=1e-08,\n",
       "       hidden_layer_sizes=(20, 20, 20), learning_rate='constant',\n",
       "       learning_rate_init=0.001, max_iter=100, momentum=0.9,\n",
       "       nesterovs_momentum=True, power_t=0.5, random_state=None,\n",
       "       shuffle=True, solver='adam', tol=0.0001, validation_fraction=0.1,\n",
       "       verbose=False, warm_start=False)"
      ]
     },
     "execution_count": 11,
     "metadata": {},
     "output_type": "execute_result"
    }
   ],
   "source": [
    "X = a3\n",
    "y = r8['X']\n",
    "\n",
    "X_train, X_test, y_train, y_test = train_test_split(X, y)\n",
    "\n",
    "scaler = StandardScaler()\n",
    "scaler.fit(X_train)\n",
    "X_train = scaler.transform(X_train)\n",
    "X_test = scaler.transform(X_test)\n",
    "\n",
    "mlpc = MLPRegressor(hidden_layer_sizes=(20, 20, 20), max_iter=100)\n",
    "mlpc.fit(X_train, y_train)"
   ]
  },
  {
   "cell_type": "code",
   "execution_count": 13,
   "metadata": {},
   "outputs": [
    {
     "data": {
      "text/plain": [
       "[<matplotlib.lines.Line2D at 0x7fa207ba0198>]"
      ]
     },
     "execution_count": 13,
     "metadata": {},
     "output_type": "execute_result"
    },
    {
     "data": {
      "image/png": "[encoded data removed]",
      "text/plain": [
       "<Figure size 432x288 with 1 Axes>"
      ]
     },
     "metadata": {},
     "output_type": "display_data"
    }
   ],
   "source": [
    "plt.scatter(y_test, mlpc.predict(X_test))\n",
    "plt.plot([1, 2, 3, 4, 5], [1, 2, 3, 4, 5])"
   ]
  },
  {
   "cell_type": "code",
   "execution_count": 14,
   "metadata": {},
   "outputs": [
    {
     "data": {
      "text/plain": [
       "0.49561616978040984"
      ]
     },
     "execution_count": 14,
     "metadata": {},
     "output_type": "execute_result"
    }
   ],
   "source": [
    "math.sqrt(np.mean((mlpc.predict(X_test) - y_test) ** 2)) # RMSE"
   ]
  },
  {
   "cell_type": "markdown",
   "metadata": {},
   "source": [
    "Now one with only 100 actual readings"
   ]
  },
  {
   "cell_type": "code",
   "execution_count": 20,
   "metadata": {},
   "outputs": [
    {
     "data": {
      "text/plain": [
       "1.4651122429023906"
      ]
     },
     "execution_count": 20,
     "metadata": {},
     "output_type": "execute_result"
    }
   ],
   "source": [
    "X_train = b3[:100]\n",
    "y_train = r8['X'].values[:100]\n",
    "\n",
    "X_test = b3[-100:]\n",
    "y_test = r8['X'].values[-100:]\n",
    "\n",
    "scaler = StandardScaler()\n",
    "scaler.fit(X_train)\n",
    "X_train = scaler.transform(X_train)\n",
    "X_test = scaler.transform(X_test)\n",
    "\n",
    "mlpc = MLPRegressor(hidden_layer_sizes=(20, 20, 20), max_iter=500)\n",
    "mlpc.fit(X_train, y_train)\n",
    "\n",
    "math.sqrt(np.mean((mlpc.predict(X_test) - y_test) ** 2)) # RMSE"
   ]
  },
  {
   "cell_type": "code",
   "execution_count": 111,
   "metadata": {},
   "outputs": [],
   "source": [
    "# (SHould use CV) <<<<<<<<<<<<<<"
   ]
  },
  {
   "cell_type": "markdown",
   "metadata": {},
   "source": [
    "Using the same test set, does the model improve with more real readings?"
   ]
  },
  {
   "cell_type": "code",
   "execution_count": 21,
   "metadata": {},
   "outputs": [
    {
     "data": {
      "text/plain": [
       "1.2592590581947989"
      ]
     },
     "execution_count": 21,
     "metadata": {},
     "output_type": "execute_result"
    }
   ],
   "source": [
    "X_train = b3[:200]\n",
    "y_train = r8['X'].values[:200]\n",
    "\n",
    "X_test = b3[-100:]\n",
    "y_test = r8['X'].values[-100:]\n",
    "\n",
    "scaler = StandardScaler()\n",
    "scaler.fit(X_train)\n",
    "X_train = scaler.transform(X_train)\n",
    "X_test = scaler.transform(X_test)\n",
    "\n",
    "mlpc = MLPRegressor(hidden_layer_sizes=(20, 20, 20), max_iter=1000)\n",
    "mlpc.fit(X_train, y_train)\n",
    "math.sqrt(np.mean((mlpc.predict(X_test) - y_test) ** 2)) # RMSE"
   ]
  },
  {
   "cell_type": "markdown",
   "metadata": {},
   "source": [
    "What if we train on purely simulated data?"
   ]
  },
  {
   "cell_type": "code",
   "execution_count": 22,
   "metadata": {},
   "outputs": [
    {
     "data": {
      "text/plain": [
       "422533546559190.3"
      ]
     },
     "execution_count": 22,
     "metadata": {},
     "output_type": "execute_result"
    }
   ],
   "source": [
    "X_train = a3[:200]\n",
    "y_train = r8['X'].values[:200]\n",
    "\n",
    "X_test = b3[-100:]\n",
    "y_test = r8['X'].values[-100:]\n",
    "\n",
    "scaler = StandardScaler()\n",
    "scaler.fit(X_train)\n",
    "X_train = scaler.transform(X_train)\n",
    "X_test = scaler.transform(X_test)\n",
    "\n",
    "mlpc = MLPRegressor(hidden_layer_sizes=(20, 20, 20), max_iter=200)\n",
    "mlpc.fit(X_train, y_train)\n",
    "math.sqrt(np.mean((mlpc.predict(X_test) - y_test) ** 2)) # RMSE"
   ]
  },
  {
   "cell_type": "markdown",
   "metadata": {},
   "source": [
    "Oops!"
   ]
  },
  {
   "cell_type": "markdown",
   "metadata": {},
   "source": [
    "### Training with some simulated data and some real data"
   ]
  },
  {
   "cell_type": "code",
   "execution_count": 23,
   "metadata": {},
   "outputs": [
    {
     "data": {
      "text/plain": [
       "1.3649094707686944"
      ]
     },
     "execution_count": 23,
     "metadata": {},
     "output_type": "execute_result"
    }
   ],
   "source": [
    "a4 = []\n",
    "for a in a3:\n",
    "    aa2 = []\n",
    "    for s in a:\n",
    "        if s < 25:\n",
    "            aa2.append(s/1.5-7)\n",
    "        else:\n",
    "            aa2.append(s)\n",
    "    a4.append(aa2)\n",
    "a4 = np.asarray(a4)\n",
    "\n",
    "an = 300\n",
    "X_train = b3[:100]\n",
    "X_train = np.concatenate((X_train, a4[:an]), axis=0)\n",
    "y_train = np.concatenate((r8['X'].values[:100], r8['X'].values[:an]), axis=0)\n",
    "\n",
    "X_test = b3[-100:]\n",
    "y_test = r8['X'].values[-100:]\n",
    "\n",
    "scaler = StandardScaler()\n",
    "scaler.fit(X_train)\n",
    "X_train = scaler.transform(X_train)\n",
    "X_test = scaler.transform(X_test)\n",
    "\n",
    "mlpc = MLPRegressor(hidden_layer_sizes=(20, 20, 20), max_iter=200)\n",
    "mlpc.fit(X_train, y_train)\n",
    "math.sqrt(np.mean((mlpc.predict(X_test) - y_test) ** 2)) # RMSE"
   ]
  },
  {
   "cell_type": "markdown",
   "metadata": {},
   "source": [
    "## Making new simulated data and training with that"
   ]
  },
  {
   "cell_type": "code",
   "execution_count": 24,
   "metadata": {},
   "outputs": [],
   "source": [
    "pos = []\n",
    "xs = []\n",
    "for i in range(1000):\n",
    "    x = random.random()*2 - 1\n",
    "    y = random.random()*2 - 1\n",
    "    while ((x-2.5)**2 + (y-2.5)**2)>2.5: # Check within safe radius\n",
    "        x = random.random()*5\n",
    "        y = random.random()*5\n",
    "    pos.append([x, y])\n",
    "    xs.append(x)"
   ]
  },
  {
   "cell_type": "code",
   "execution_count": 25,
   "metadata": {},
   "outputs": [],
   "source": [
    "paths = []\n",
    "for p in pos:\n",
    "    xp, yp = (p[0]-2.5)/2.5, (p[1]-2.5)/2.5\n",
    "    s, i, x, y = test_image(500, 500, 70, xp, yp)\n",
    "    path = get_paths(i, ds, es, 500, 500)\n",
    "    paths.append(path)\n",
    "r8sim = pd.DataFrame(paths)\n",
    "\n",
    "a = r8sim[[i for i in range(64)]].values\n",
    "a2 = np.asarray([np.log(a[i]+1)+7 for i in range(len(a))])\n",
    "a3 = (a2*sf)"
   ]
  },
  {
   "cell_type": "code",
   "execution_count": 26,
   "metadata": {},
   "outputs": [
    {
     "name": "stdout",
     "output_type": "stream",
     "text": [
      "0.6148060304162106\n"
     ]
    }
   ],
   "source": [
    "a4 = []\n",
    "for a in a3:\n",
    "    aa2 = []\n",
    "    for s in a:\n",
    "        if s < 35:\n",
    "            aa2.append(s/2-20)\n",
    "        else:\n",
    "            aa2.append(s)\n",
    "    a4.append(aa2)\n",
    "a4 = np.asarray(a4)\n",
    "\n",
    "an = 1000\n",
    "X_train = b3[:400]\n",
    "X_train = np.concatenate((X_train, a4[:an]), axis=0)\n",
    "y_train = np.concatenate((r8['X'].values[:400], xs[:an]), axis=0)\n",
    "\n",
    "X_test = b3[-100:]\n",
    "y_test = r8['X'].values[-100:]\n",
    "\n",
    "scaler = StandardScaler()\n",
    "scaler.fit(X_train)\n",
    "X_train = scaler.transform(X_train)\n",
    "X_test = scaler.transform(X_test)\n",
    "\n",
    "rmse = []\n",
    "\n",
    "for i in range(50):\n",
    "    mlpc = MLPRegressor(hidden_layer_sizes=(20, 20, 20), max_iter=1000)\n",
    "    mlpc.fit(X_train, y_train)\n",
    "    rmse.append(math.sqrt(np.mean((mlpc.predict(X_test) - y_test) ** 2))) # RMSE\n",
    "print(np.mean(rmse))"
   ]
  },
  {
   "cell_type": "code",
   "execution_count": 27,
   "metadata": {},
   "outputs": [
    {
     "name": "stdout",
     "output_type": "stream",
     "text": [
      "0.7151195643453608\n"
     ]
    }
   ],
   "source": [
    "an = 0\n",
    "X_train = b3[:400]\n",
    "X_train = np.concatenate((X_train, a4[:an]), axis=0)\n",
    "y_train = np.concatenate((r8['X'].values[:400], r8['X'].values[:an]), axis=0)\n",
    "\n",
    "X_test = b3[-100:]\n",
    "y_test = r8['X'].values[-100:]\n",
    "\n",
    "scaler = StandardScaler()\n",
    "scaler.fit(X_train)\n",
    "X_train = scaler.transform(X_train)\n",
    "X_test = scaler.transform(X_test)\n",
    "\n",
    "rmse = []\n",
    "\n",
    "for i in range(50):\n",
    "    mlpc = MLPRegressor(hidden_layer_sizes=(20, 20, 20), max_iter=1000)\n",
    "    mlpc.fit(X_train, y_train)\n",
    "    rmse.append(math.sqrt(np.mean((mlpc.predict(X_test) - y_test) ** 2))) # RMSE\n",
    "print(np.mean(rmse))"
   ]
  },
  {
   "cell_type": "markdown",
   "metadata": {},
   "source": [
    "The model without the added simulation data does worse! Success!"
   ]
  },
  {
   "cell_type": "markdown",
   "metadata": {},
   "source": [
    "# Plotting the improvement in scores"
   ]
  },
  {
   "cell_type": "code",
   "execution_count": 223,
   "metadata": {},
   "outputs": [
    {
     "data": {
      "image/png": "[encoded data removed]",
      "text/plain": [
       "<Figure size 432x288 with 1 Axes>"
      ]
     },
     "metadata": {},
     "output_type": "display_data"
    }
   ],
   "source": [
    "ns = [10, 50, 150, 250, 350, 400, 450]\n",
    "scores_sim = [1.38, 0.99, 0.88, 0.72, 0.62, 0.60, 0.573]\n",
    "scores_base = [1.22, 1.1, 1.03, 0.80, 0.723, 0.69, 0.648]\n",
    "plt.plot(ns[1:], scores_sim[1:], label='RMSE (supplemented by simulation)') # With simulated data\n",
    "plt.plot(ns[1:], scores_base[1:], label='RMSE') # Without sim\n",
    "plt.xlabel('Number of training samples')\n",
    "plt.ylabel('Error (RMSE) in cm')\n",
    "plt.legend()\n",
    "plt.savefig('RMSE vs n samples, with 1000 simulated readings.png')"
   ]
  },
  {
   "cell_type": "code",
   "execution_count": null,
   "metadata": {},
   "outputs": [],
   "source": []
  },
  {
   "cell_type": "code",
   "execution_count": null,
   "metadata": {},
   "outputs": [],
   "source": []
  },
  {
   "cell_type": "markdown",
   "metadata": {},
   "source": [
    "# Trying RF"
   ]
  },
  {
   "cell_type": "code",
   "execution_count": 38,
   "metadata": {},
   "outputs": [
    {
     "name": "stdout",
     "output_type": "stream",
     "text": [
      "0.6331695176843891\n"
     ]
    }
   ],
   "source": [
    "from sklearn.ensemble import RandomForestRegressor\n",
    "\n",
    "a4 = []\n",
    "for a in a3:\n",
    "    aa2 = []\n",
    "    for s in a:\n",
    "        if s < 35:\n",
    "            aa2.append(s/2-20)\n",
    "        else:\n",
    "            aa2.append(s)\n",
    "    a4.append(aa2)\n",
    "a4 = np.asarray(a4)\n",
    "\n",
    "an = 500\n",
    "X_train = b3[:50]\n",
    "X_train = np.concatenate((X_train, a4[:an]), axis=0)\n",
    "y_train = np.concatenate((r8['X'].values[:50], xs[:an]), axis=0)\n",
    "\n",
    "X_test = b3[-200:]\n",
    "y_test = r8['X'].values[-200:]\n",
    "\n",
    "scaler = StandardScaler()\n",
    "scaler.fit(X_train)\n",
    "X_train = scaler.transform(X_train)\n",
    "X_test = scaler.transform(X_test)\n",
    "\n",
    "rmse = []\n",
    "\n",
    "for i in range(5):\n",
    "    mlpc = RandomForestRegressor(max_depth=5, random_state=0)\n",
    "    mlpc.fit(X_train, y_train)\n",
    "    rmse.append(math.sqrt(np.mean((mlpc.predict(X_test) - y_test) ** 2))) # RMSE\n",
    "print(np.mean(rmse))"
   ]
  },
  {
   "cell_type": "code",
   "execution_count": 39,
   "metadata": {},
   "outputs": [
    {
     "name": "stdout",
     "output_type": "stream",
     "text": [
      "0.7177502538274182\n"
     ]
    }
   ],
   "source": [
    "from sklearn.ensemble import RandomForestRegressor\n",
    "\n",
    "a4 = []\n",
    "for a in a3:\n",
    "    aa2 = []\n",
    "    for s in a:\n",
    "        if s < 35:\n",
    "            aa2.append(s/2-20)\n",
    "        else:\n",
    "            aa2.append(s)\n",
    "    a4.append(aa2)\n",
    "a4 = np.asarray(a4)\n",
    "\n",
    "an = 0\n",
    "X_train = b3[:50]\n",
    "X_train = np.concatenate((X_train, a4[:an]), axis=0)\n",
    "y_train = np.concatenate((r8['X'].values[:50], xs[:an]), axis=0)\n",
    "\n",
    "X_test = b3[-200:]\n",
    "y_test = r8['X'].values[-200:]\n",
    "\n",
    "scaler = StandardScaler()\n",
    "scaler.fit(X_train)\n",
    "X_train = scaler.transform(X_train)\n",
    "X_test = scaler.transform(X_test)\n",
    "\n",
    "rmse = []\n",
    "\n",
    "for i in range(5):\n",
    "    mlpc = RandomForestRegressor(max_depth=5, random_state=0)\n",
    "    mlpc.fit(X_train, y_train)\n",
    "    rmse.append(math.sqrt(np.mean((mlpc.predict(X_test) - y_test) ** 2))) # RMSE\n",
    "print(np.mean(rmse))"
   ]
  },
  {
   "cell_type": "code",
   "execution_count": null,
   "metadata": {},
   "outputs": [],
   "source": []
  },
  {
   "cell_type": "code",
   "execution_count": null,
   "metadata": {},
   "outputs": [],
   "source": []
  },
  {
   "cell_type": "code",
   "execution_count": null,
   "metadata": {},
   "outputs": [],
   "source": [
    "ns = range(50, 410, 20)\n",
    "scores_sim = []\n",
    "scores_base = []\n",
    "\n",
    "for nt in ns:\n",
    "    print(nt)\n",
    "    a4 = []\n",
    "    for a in a3:\n",
    "        aa2 = []\n",
    "        for s in a:\n",
    "            if s < 35:\n",
    "                aa2.append(s/2-20)\n",
    "            else:\n",
    "                aa2.append(s)\n",
    "        a4.append(aa2)\n",
    "    a4 = np.asarray(a4)\n",
    "\n",
    "    an = 1000\n",
    "    X_train = b3[:nt]\n",
    "    X_train = np.concatenate((X_train, a4[:an]), axis=0)\n",
    "    y_train = np.concatenate((r8['X'].values[:nt], xs[:an]), axis=0)\n",
    "    y_train = y_train*0.2\n",
    "\n",
    "    X_test = b3[-100:]\n",
    "    y_test = r8['X'].values[-100:]\n",
    "    y_test = y_test*0.2\n",
    "\n",
    "    scaler = StandardScaler()\n",
    "    scaler.fit(X_train)\n",
    "    X_train = scaler.transform(X_train)\n",
    "    X_test = scaler.transform(X_test)\n",
    "\n",
    "    rmse = []\n",
    "\n",
    "    for i in range(60):\n",
    "    #     print(i)\n",
    "        mlpc = MLPRegressor(hidden_layer_sizes=(20, 20, 20), max_iter=1000)\n",
    "        mlpc.fit(X_train, y_train)\n",
    "        rmse.append(math.sqrt(np.mean((mlpc.predict(X_test) - y_test) ** 2))) # RMSE\n",
    "    scores_sim.append(np.mean(rmse))\n",
    "    \n",
    "    \n",
    "    an = 0\n",
    "    X_train = b3[:nt]\n",
    "    X_train = np.concatenate((X_train, a4[:an]), axis=0)\n",
    "    y_train = np.concatenate((r8['X'].values[:nt], r8['X'].values[:an]), axis=0)\n",
    "    y_train = y_train*0.2\n",
    "\n",
    "    X_test = b3[-100:]\n",
    "    y_test = r8['X'].values[-100:]\n",
    "    y_test = y_test*0.2\n",
    "\n",
    "    scaler = StandardScaler()\n",
    "    scaler.fit(X_train)\n",
    "    X_train = scaler.transform(X_train)\n",
    "    X_test = scaler.transform(X_test)\n",
    "\n",
    "    rmse = []\n",
    "\n",
    "    for i in range(60):\n",
    "    #     print(i)\n",
    "        mlpc = MLPRegressor(hidden_layer_sizes=(20, 20, 20), max_iter=1000)\n",
    "        mlpc.fit(X_train, y_train)\n",
    "        rmse.append(math.sqrt(np.mean((mlpc.predict(X_test) - y_test) ** 2))) # RMSE\n",
    "    scores_base.append(np.mean(rmse))\n"
   ]
  },
  {
   "cell_type": "code",
   "execution_count": null,
   "metadata": {},
   "outputs": [],
   "source": [
    "plt.plot(ns, scores_sim, label='RMSE (supplemented by simulation)') # With simulated data\n",
    "plt.plot(ns, scores_base, label='RMSE') # Without sim\n",
    "plt.xlabel('Number of training samples')\n",
    "plt.ylabel('Error (RMSE) in cm')\n",
    "plt.legend()\n",
    "plt.savefig('RMSE vs n samples, with 1000 simulated readings 5.png')"
   ]
  },
  {
   "cell_type": "code",
   "execution_count": null,
   "metadata": {},
   "outputs": [],
   "source": []
  }
 ],
 "metadata": {
  "kernelspec": {
   "display_name": "Python 3",
   "language": "python",
   "name": "python3"
  },
  "language_info": {
   "codemirror_mode": {
    "name": "ipython",
    "version": 3
   },
   "file_extension": ".py",
   "mimetype": "text/x-python",
   "name": "python",
   "nbconvert_exporter": "python",
   "pygments_lexer": "ipython3",
   "version": "3.6.6"
  }
 },
 "nbformat": 4,
 "nbformat_minor": 2
}
