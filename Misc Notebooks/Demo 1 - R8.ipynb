{
 "cells": [
  {
   "cell_type": "markdown",
   "metadata": {},
   "source": [
    "# Demo"
   ]
  },
  {
   "cell_type": "markdown",
   "metadata": {},
   "source": [
    "## Loading libraries and defining some functions"
   ]
  },
  {
   "cell_type": "code",
   "execution_count": 6,
   "metadata": {},
   "outputs": [],
   "source": [
    "import glob, serial, time, math\n",
    "from matplotlib import pyplot as plt\n",
    "import numpy as np\n",
    "import pandas as pd\n",
    "from skimage.transform import iradon\n",
    "from IPython.display import display\n",
    "import random\n",
    "\n",
    "from sklearn.model_selection import train_test_split\n",
    "from sklearn.neural_network import MLPClassifier, MLPRegressor\n",
    "from sklearn.preprocessing import StandardScaler"
   ]
  },
  {
   "cell_type": "code",
   "execution_count": 7,
   "metadata": {},
   "outputs": [
    {
     "data": {
      "text/plain": [
       "['/dev/ttyACM2',\n",
       " '/dev/ttyUSB2',\n",
       " '/dev/ttyUSB1',\n",
       " '/dev/ttyUSB0',\n",
       " '/dev/ttyprintk',\n",
       " '/dev/ttyS31',\n",
       " '/dev/ttyS30',\n",
       " '/dev/ttyS29',\n",
       " '/dev/ttyS28',\n",
       " '/dev/ttyS27',\n",
       " '/dev/ttyS26',\n",
       " '/dev/ttyS25',\n",
       " '/dev/ttyS24',\n",
       " '/dev/ttyS23',\n",
       " '/dev/ttyS22',\n",
       " '/dev/ttyS21',\n",
       " '/dev/ttyS20',\n",
       " '/dev/ttyS19',\n",
       " '/dev/ttyS18',\n",
       " '/dev/ttyS17',\n",
       " '/dev/ttyS16',\n",
       " '/dev/ttyS15',\n",
       " '/dev/ttyS14',\n",
       " '/dev/ttyS13',\n",
       " '/dev/ttyS12',\n",
       " '/dev/ttyS11',\n",
       " '/dev/ttyS10',\n",
       " '/dev/ttyS9',\n",
       " '/dev/ttyS8',\n",
       " '/dev/ttyS7',\n",
       " '/dev/ttyS6',\n",
       " '/dev/ttyS5',\n",
       " '/dev/ttyS4',\n",
       " '/dev/ttyS3',\n",
       " '/dev/ttyS2',\n",
       " '/dev/ttyS1',\n",
       " '/dev/ttyS0']"
      ]
     },
     "execution_count": 7,
     "metadata": {},
     "output_type": "execute_result"
    }
   ],
   "source": [
    "ports = glob.glob('/dev/tty[A-Za-z]*') # Modify if on a platform other than Linux\n",
    "ports"
   ]
  },
  {
   "cell_type": "code",
   "execution_count": 8,
   "metadata": {},
   "outputs": [],
   "source": [
    "ser = serial.Serial(ports[0], 115200)"
   ]
  },
  {
   "cell_type": "code",
   "execution_count": 9,
   "metadata": {},
   "outputs": [],
   "source": [
    "ds = {0:b'i',\n",
    "     7:b'j',\n",
    "     3:b'k',\n",
    "     4:b'l',\n",
    "     2:b'm',\n",
    "     5:b'n',\n",
    "     6:b'o',\n",
    "     1:b'p'}\n",
    "\n",
    "es = {0:b'a',\n",
    "     7:b'b',\n",
    "     1:b'c',\n",
    "     6:b'd',\n",
    "     2:b'e',\n",
    "     4:b'f',\n",
    "     3:b'g',\n",
    "     5:b'h'}\n",
    "\n",
    "def read_d(d):\n",
    "    ser.write(ds[d])\n",
    "    while ser.in_waiting < 1:\n",
    "        pass # wait for a response\n",
    "    return ser.read_all()\n",
    "\n",
    "def set_l(l):\n",
    "    ser.write(es[l])\n",
    "    while ser.in_waiting < 1:\n",
    "        pass # wait for a response\n",
    "    return ser.read_all()\n",
    "\n",
    "def loff():\n",
    "    ser.write(b'A')\n",
    "    while ser.in_waiting < 1:\n",
    "        pass # wait for a response\n",
    "    return ser.read_all()\n",
    "\n",
    "def read_all():\n",
    "    a = []\n",
    "    # Take a base set of readings\n",
    "    loff()\n",
    "    for d in range(8):\n",
    "        a.append(int(read_d(d).strip()))\n",
    "    for l in range(8):\n",
    "        loff()\n",
    "        set_l(l)\n",
    "        for d in range(8):\n",
    "            a.append(int(read_d(d).strip()))\n",
    "        loff()\n",
    "    return a"
   ]
  },
  {
   "cell_type": "markdown",
   "metadata": {},
   "source": [
    "## Load the training data"
   ]
  },
  {
   "cell_type": "code",
   "execution_count": 242,
   "metadata": {},
   "outputs": [],
   "source": [
    "# df1 = pd.read_csv('dataset_2q.csv')\n",
    "# df1 = df1.drop('Unnamed: 0', axis=1)\n",
    "# df1.head()\n",
    "df1 = pd.read_csv('demoq.csv')"
   ]
  },
  {
   "cell_type": "markdown",
   "metadata": {},
   "source": [
    "## Train a model to predict quadrant"
   ]
  },
  {
   "cell_type": "code",
   "execution_count": 243,
   "metadata": {},
   "outputs": [
    {
     "data": {
      "text/plain": [
       "0.98"
      ]
     },
     "execution_count": 243,
     "metadata": {},
     "output_type": "execute_result"
    }
   ],
   "source": [
    "X_train, X_test, y_train, y_test = train_test_split(df1[[str(i) for i in range(72)]], df1['q'])\n",
    "\n",
    "scaler = StandardScaler()\n",
    "scaler.fit(X_train)\n",
    "X_train = scaler.transform(X_train)\n",
    "X_test = scaler.transform(X_test)\n",
    "\n",
    "mlpc = MLPClassifier(hidden_layer_sizes=(20, 20, 20), max_iter=1000)\n",
    "mlpc.fit(X_train, y_train)\n",
    "mlpc.score(X_test, y_test)"
   ]
  },
  {
   "cell_type": "markdown",
   "metadata": {},
   "source": [
    "## Take new readings and classify them"
   ]
  },
  {
   "cell_type": "code",
   "execution_count": 254,
   "metadata": {},
   "outputs": [
    {
     "name": "stdout",
     "output_type": "stream",
     "text": [
      "[4]\n"
     ]
    }
   ],
   "source": [
    "in1 = read_all() #df1[[str(i) for i in range(72)]].iloc[200]\n",
    "X = scaler.transform([in1])\n",
    "print(mlpc.predict(X))"
   ]
  },
  {
   "cell_type": "code",
   "execution_count": 86,
   "metadata": {},
   "outputs": [
    {
     "data": {
      "text/plain": [
       "[<matplotlib.lines.Line2D at 0x7f3749064470>]"
      ]
     },
     "execution_count": 86,
     "metadata": {},
     "output_type": "execute_result"
    },
    {
     "data": {
      "image/png": "[encoded data removed]",
      "text/plain": [
       "<Figure size 432x288 with 1 Axes>"
      ]
     },
     "metadata": {},
     "output_type": "display_data"
    }
   ],
   "source": [
    "plt.plot(read_all())"
   ]
  },
  {
   "cell_type": "markdown",
   "metadata": {},
   "source": [
    "## Doing position inference"
   ]
  },
  {
   "cell_type": "code",
   "execution_count": 255,
   "metadata": {},
   "outputs": [
    {
     "data": {
      "text/html": [
       "<div>\n",
       "<style scoped>\n",
       "    .dataframe tbody tr th:only-of-type {\n",
       "        vertical-align: middle;\n",
       "    }\n",
       "\n",
       "    .dataframe tbody tr th {\n",
       "        vertical-align: top;\n",
       "    }\n",
       "\n",
       "    .dataframe thead th {\n",
       "        text-align: right;\n",
       "    }\n",
       "</style>\n",
       "<table border=\"1\" class=\"dataframe\">\n",
       "  <thead>\n",
       "    <tr style=\"text-align: right;\">\n",
       "      <th></th>\n",
       "      <th>0</th>\n",
       "      <th>1</th>\n",
       "      <th>2</th>\n",
       "      <th>3</th>\n",
       "      <th>4</th>\n",
       "      <th>5</th>\n",
       "      <th>6</th>\n",
       "      <th>7</th>\n",
       "      <th>8</th>\n",
       "      <th>9</th>\n",
       "      <th>...</th>\n",
       "      <th>64</th>\n",
       "      <th>65</th>\n",
       "      <th>66</th>\n",
       "      <th>67</th>\n",
       "      <th>68</th>\n",
       "      <th>69</th>\n",
       "      <th>70</th>\n",
       "      <th>71</th>\n",
       "      <th>X</th>\n",
       "      <th>Y</th>\n",
       "    </tr>\n",
       "  </thead>\n",
       "  <tbody>\n",
       "    <tr>\n",
       "      <th>0</th>\n",
       "      <td>751</td>\n",
       "      <td>713</td>\n",
       "      <td>728</td>\n",
       "      <td>731</td>\n",
       "      <td>738</td>\n",
       "      <td>750</td>\n",
       "      <td>749</td>\n",
       "      <td>751</td>\n",
       "      <td>735</td>\n",
       "      <td>730</td>\n",
       "      <td>...</td>\n",
       "      <td>733</td>\n",
       "      <td>726</td>\n",
       "      <td>709</td>\n",
       "      <td>738</td>\n",
       "      <td>749</td>\n",
       "      <td>750</td>\n",
       "      <td>745</td>\n",
       "      <td>739</td>\n",
       "      <td>1.537372</td>\n",
       "      <td>2.424437</td>\n",
       "    </tr>\n",
       "    <tr>\n",
       "      <th>1</th>\n",
       "      <td>730</td>\n",
       "      <td>714</td>\n",
       "      <td>734</td>\n",
       "      <td>741</td>\n",
       "      <td>745</td>\n",
       "      <td>747</td>\n",
       "      <td>748</td>\n",
       "      <td>752</td>\n",
       "      <td>731</td>\n",
       "      <td>725</td>\n",
       "      <td>...</td>\n",
       "      <td>735</td>\n",
       "      <td>720</td>\n",
       "      <td>726</td>\n",
       "      <td>500</td>\n",
       "      <td>742</td>\n",
       "      <td>735</td>\n",
       "      <td>746</td>\n",
       "      <td>754</td>\n",
       "      <td>3.247863</td>\n",
       "      <td>1.492602</td>\n",
       "    </tr>\n",
       "    <tr>\n",
       "      <th>2</th>\n",
       "      <td>741</td>\n",
       "      <td>732</td>\n",
       "      <td>743</td>\n",
       "      <td>745</td>\n",
       "      <td>743</td>\n",
       "      <td>737</td>\n",
       "      <td>740</td>\n",
       "      <td>739</td>\n",
       "      <td>741</td>\n",
       "      <td>738</td>\n",
       "      <td>...</td>\n",
       "      <td>748</td>\n",
       "      <td>723</td>\n",
       "      <td>725</td>\n",
       "      <td>730</td>\n",
       "      <td>746</td>\n",
       "      <td>744</td>\n",
       "      <td>740</td>\n",
       "      <td>740</td>\n",
       "      <td>1.990095</td>\n",
       "      <td>3.258206</td>\n",
       "    </tr>\n",
       "    <tr>\n",
       "      <th>3</th>\n",
       "      <td>735</td>\n",
       "      <td>723</td>\n",
       "      <td>750</td>\n",
       "      <td>751</td>\n",
       "      <td>745</td>\n",
       "      <td>750</td>\n",
       "      <td>738</td>\n",
       "      <td>756</td>\n",
       "      <td>733</td>\n",
       "      <td>730</td>\n",
       "      <td>...</td>\n",
       "      <td>743</td>\n",
       "      <td>730</td>\n",
       "      <td>716</td>\n",
       "      <td>500</td>\n",
       "      <td>744</td>\n",
       "      <td>735</td>\n",
       "      <td>739</td>\n",
       "      <td>744</td>\n",
       "      <td>2.287863</td>\n",
       "      <td>3.805902</td>\n",
       "    </tr>\n",
       "    <tr>\n",
       "      <th>4</th>\n",
       "      <td>724</td>\n",
       "      <td>743</td>\n",
       "      <td>734</td>\n",
       "      <td>725</td>\n",
       "      <td>745</td>\n",
       "      <td>731</td>\n",
       "      <td>743</td>\n",
       "      <td>743</td>\n",
       "      <td>737</td>\n",
       "      <td>732</td>\n",
       "      <td>...</td>\n",
       "      <td>742</td>\n",
       "      <td>731</td>\n",
       "      <td>737</td>\n",
       "      <td>516</td>\n",
       "      <td>751</td>\n",
       "      <td>742</td>\n",
       "      <td>731</td>\n",
       "      <td>738</td>\n",
       "      <td>3.016146</td>\n",
       "      <td>2.346812</td>\n",
       "    </tr>\n",
       "  </tbody>\n",
       "</table>\n",
       "<p>5 rows × 74 columns</p>\n",
       "</div>"
      ],
      "text/plain": [
       "     0    1    2    3    4    5    6    7    8    9    ...      64   65   66  \\\n",
       "0  751  713  728  731  738  750  749  751  735  730    ...     733  726  709   \n",
       "1  730  714  734  741  745  747  748  752  731  725    ...     735  720  726   \n",
       "2  741  732  743  745  743  737  740  739  741  738    ...     748  723  725   \n",
       "3  735  723  750  751  745  750  738  756  733  730    ...     743  730  716   \n",
       "4  724  743  734  725  745  731  743  743  737  732    ...     742  731  737   \n",
       "\n",
       "    67   68   69   70   71         X         Y  \n",
       "0  738  749  750  745  739  1.537372  2.424437  \n",
       "1  500  742  735  746  754  3.247863  1.492602  \n",
       "2  730  746  744  740  740  1.990095  3.258206  \n",
       "3  500  744  735  739  744  2.287863  3.805902  \n",
       "4  516  751  742  731  738  3.016146  2.346812  \n",
       "\n",
       "[5 rows x 74 columns]"
      ]
     },
     "execution_count": 255,
     "metadata": {},
     "output_type": "execute_result"
    }
   ],
   "source": [
    "r8 = pd.read_csv('posinf8_500_readings.csv')\n",
    "r8.head()"
   ]
  },
  {
   "cell_type": "code",
   "execution_count": 256,
   "metadata": {},
   "outputs": [
    {
     "name": "stdout",
     "output_type": "stream",
     "text": [
      "0.8128800117846215\n"
     ]
    },
    {
     "data": {
      "text/plain": [
       "[<matplotlib.lines.Line2D at 0x7f3747f89eb8>]"
      ]
     },
     "execution_count": 256,
     "metadata": {},
     "output_type": "execute_result"
    },
    {
     "data": {
      "image/png": "[encoded data removed]",
      "text/plain": [
       "<Figure size 432x288 with 1 Axes>"
      ]
     },
     "metadata": {},
     "output_type": "display_data"
    }
   ],
   "source": [
    "from sklearn.ensemble import RandomForestRegressor # Why not? :)\n",
    "\n",
    "X_train, X_test, y_train, y_test = train_test_split(r8[[str(i) for i in range(72)]], r8['X'])\n",
    "\n",
    "regr = RandomForestRegressor(max_depth=5, random_state=0)\n",
    "regr.fit(X_train, y_train)\n",
    "print(regr.score(X_test, y_test))\n",
    "plt.scatter(y_train, regr.predict(X_train), alpha=0.3)\n",
    "plt.scatter(y_test, regr.predict(X_test).clip(0, 5), alpha=0.6)\n",
    "plt.plot([1, 2, 3, 4, 5], [1, 2, 3, 4, 5])"
   ]
  },
  {
   "cell_type": "markdown",
   "metadata": {},
   "source": [
    "Train a new model with both X and Y as outputs and try t on new readings"
   ]
  },
  {
   "cell_type": "code",
   "execution_count": 257,
   "metadata": {},
   "outputs": [
    {
     "name": "stderr",
     "output_type": "stream",
     "text": [
      "/home/jonathan/.local/lib/python3.6/site-packages/sklearn/neural_network/multilayer_perceptron.py:564: ConvergenceWarning: Stochastic Optimizer: Maximum iterations (200) reached and the optimization hasn't converged yet.\n",
      "  % self.max_iter, ConvergenceWarning)\n"
     ]
    },
    {
     "data": {
      "text/plain": [
       "MLPRegressor(activation='relu', alpha=0.0001, batch_size='auto', beta_1=0.9,\n",
       "       beta_2=0.999, early_stopping=False, epsilon=1e-08,\n",
       "       hidden_layer_sizes=(20, 20, 20), learning_rate='constant',\n",
       "       learning_rate_init=0.001, max_iter=200, momentum=0.9,\n",
       "       nesterovs_momentum=True, power_t=0.5, random_state=None,\n",
       "       shuffle=True, solver='adam', tol=0.0001, validation_fraction=0.1,\n",
       "       verbose=False, warm_start=False)"
      ]
     },
     "execution_count": 257,
     "metadata": {},
     "output_type": "execute_result"
    }
   ],
   "source": [
    "X_train, X_test, y_train, y_test = train_test_split(r8[[str(i) for i in range(72)]], r8[['X', 'Y']])\n",
    "r2 = RandomForestRegressor(max_depth=5, random_state=0)\n",
    "r2.fit(X_train, y_train)\n",
    "scaler = StandardScaler()\n",
    "scaler.fit(X_train)\n",
    "X_train = scaler.transform(X_train)\n",
    "X_test = scaler.transform(X_test)\n",
    "r3 = MLPRegressor(hidden_layer_sizes=(20, 20, 20))\n",
    "r3.fit(X_train, y_train)"
   ]
  },
  {
   "cell_type": "code",
   "execution_count": 259,
   "metadata": {},
   "outputs": [
    {
     "data": {
      "text/plain": [
       "array([[2.18234821, 2.85020491],\n",
       "       [2.64053319, 2.06353424],\n",
       "       [1.86283764, 3.07341807]])"
      ]
     },
     "execution_count": 259,
     "metadata": {},
     "output_type": "execute_result"
    }
   ],
   "source": [
    "r3.predict(scaler.transform(r8[[str(i) for i in range(72)]].iloc[:3]))"
   ]
  },
  {
   "cell_type": "code",
   "execution_count": 260,
   "metadata": {},
   "outputs": [],
   "source": [
    "X = []\n",
    "Y = []"
   ]
  },
  {
   "cell_type": "code",
   "execution_count": 261,
   "metadata": {},
   "outputs": [
    {
     "ename": "KeyboardInterrupt",
     "evalue": "",
     "output_type": "error",
     "traceback": [
      "\u001b[0;31m---------------------------------------------------------------------------\u001b[0m",
      "\u001b[0;31mKeyboardInterrupt\u001b[0m                         Traceback (most recent call last)",
      "\u001b[0;32m<ipython-input-261-164f3d9d8a66>\u001b[0m in \u001b[0;36m<module>\u001b[0;34m()\u001b[0m\n\u001b[1;32m      2\u001b[0m \u001b[0;34m\u001b[0m\u001b[0m\n\u001b[1;32m      3\u001b[0m \u001b[0;32mwhile\u001b[0m \u001b[0;32mTrue\u001b[0m\u001b[0;34m:\u001b[0m\u001b[0;34m\u001b[0m\u001b[0m\n\u001b[0;32m----> 4\u001b[0;31m     \u001b[0mreading\u001b[0m \u001b[0;34m=\u001b[0m \u001b[0mread_all\u001b[0m\u001b[0;34m(\u001b[0m\u001b[0;34m)\u001b[0m\u001b[0;34m\u001b[0m\u001b[0m\n\u001b[0m\u001b[1;32m      5\u001b[0m     \u001b[0mr\u001b[0m \u001b[0;34m=\u001b[0m \u001b[0;34m[\u001b[0m\u001b[0mreading\u001b[0m\u001b[0;34m]\u001b[0m \u001b[0;31m#scaler.transform([reading])\u001b[0m\u001b[0;34m\u001b[0m\u001b[0m\n\u001b[1;32m      6\u001b[0m     \u001b[0mp\u001b[0m \u001b[0;34m=\u001b[0m \u001b[0mr2\u001b[0m\u001b[0;34m.\u001b[0m\u001b[0mpredict\u001b[0m\u001b[0;34m(\u001b[0m\u001b[0mr\u001b[0m\u001b[0;34m)\u001b[0m\u001b[0;34m\u001b[0m\u001b[0m\n",
      "\u001b[0;32m<ipython-input-64-ad41979d814c>\u001b[0m in \u001b[0;36mread_all\u001b[0;34m()\u001b[0m\n\u001b[1;32m     45\u001b[0m         \u001b[0mset_l\u001b[0m\u001b[0;34m(\u001b[0m\u001b[0ml\u001b[0m\u001b[0;34m)\u001b[0m\u001b[0;34m\u001b[0m\u001b[0m\n\u001b[1;32m     46\u001b[0m         \u001b[0;32mfor\u001b[0m \u001b[0md\u001b[0m \u001b[0;32min\u001b[0m \u001b[0mrange\u001b[0m\u001b[0;34m(\u001b[0m\u001b[0;36m8\u001b[0m\u001b[0;34m)\u001b[0m\u001b[0;34m:\u001b[0m\u001b[0;34m\u001b[0m\u001b[0m\n\u001b[0;32m---> 47\u001b[0;31m             \u001b[0ma\u001b[0m\u001b[0;34m.\u001b[0m\u001b[0mappend\u001b[0m\u001b[0;34m(\u001b[0m\u001b[0mint\u001b[0m\u001b[0;34m(\u001b[0m\u001b[0mread_d\u001b[0m\u001b[0;34m(\u001b[0m\u001b[0md\u001b[0m\u001b[0;34m)\u001b[0m\u001b[0;34m.\u001b[0m\u001b[0mstrip\u001b[0m\u001b[0;34m(\u001b[0m\u001b[0;34m)\u001b[0m\u001b[0;34m)\u001b[0m\u001b[0;34m)\u001b[0m\u001b[0;34m\u001b[0m\u001b[0m\n\u001b[0m\u001b[1;32m     48\u001b[0m         \u001b[0mloff\u001b[0m\u001b[0;34m(\u001b[0m\u001b[0;34m)\u001b[0m\u001b[0;34m\u001b[0m\u001b[0m\n\u001b[1;32m     49\u001b[0m     \u001b[0;32mreturn\u001b[0m \u001b[0ma\u001b[0m\u001b[0;34m\u001b[0m\u001b[0m\n",
      "\u001b[0;32m<ipython-input-64-ad41979d814c>\u001b[0m in \u001b[0;36mread_d\u001b[0;34m(d)\u001b[0m\n\u001b[1;32m     19\u001b[0m \u001b[0;32mdef\u001b[0m \u001b[0mread_d\u001b[0m\u001b[0;34m(\u001b[0m\u001b[0md\u001b[0m\u001b[0;34m)\u001b[0m\u001b[0;34m:\u001b[0m\u001b[0;34m\u001b[0m\u001b[0m\n\u001b[1;32m     20\u001b[0m     \u001b[0mser\u001b[0m\u001b[0;34m.\u001b[0m\u001b[0mwrite\u001b[0m\u001b[0;34m(\u001b[0m\u001b[0mds\u001b[0m\u001b[0;34m[\u001b[0m\u001b[0md\u001b[0m\u001b[0;34m]\u001b[0m\u001b[0;34m)\u001b[0m\u001b[0;34m\u001b[0m\u001b[0m\n\u001b[0;32m---> 21\u001b[0;31m     \u001b[0;32mwhile\u001b[0m \u001b[0mser\u001b[0m\u001b[0;34m.\u001b[0m\u001b[0min_waiting\u001b[0m \u001b[0;34m<\u001b[0m \u001b[0;36m1\u001b[0m\u001b[0;34m:\u001b[0m\u001b[0;34m\u001b[0m\u001b[0m\n\u001b[0m\u001b[1;32m     22\u001b[0m         \u001b[0;32mpass\u001b[0m \u001b[0;31m# wait for a response\u001b[0m\u001b[0;34m\u001b[0m\u001b[0m\n\u001b[1;32m     23\u001b[0m     \u001b[0;32mreturn\u001b[0m \u001b[0mser\u001b[0m\u001b[0;34m.\u001b[0m\u001b[0mread_all\u001b[0m\u001b[0;34m(\u001b[0m\u001b[0;34m)\u001b[0m\u001b[0;34m\u001b[0m\u001b[0m\n",
      "\u001b[0;32m~/.local/lib/python3.6/site-packages/serial/serialposix.py\u001b[0m in \u001b[0;36min_waiting\u001b[0;34m(self)\u001b[0m\n\u001b[1;32m    465\u001b[0m         \u001b[0;34m\"\"\"Return the number of bytes currently in the input buffer.\"\"\"\u001b[0m\u001b[0;34m\u001b[0m\u001b[0m\n\u001b[1;32m    466\u001b[0m         \u001b[0;31m#~ s = fcntl.ioctl(self.fd, termios.FIONREAD, TIOCM_zero_str)\u001b[0m\u001b[0;34m\u001b[0m\u001b[0;34m\u001b[0m\u001b[0m\n\u001b[0;32m--> 467\u001b[0;31m         \u001b[0ms\u001b[0m \u001b[0;34m=\u001b[0m \u001b[0mfcntl\u001b[0m\u001b[0;34m.\u001b[0m\u001b[0mioctl\u001b[0m\u001b[0;34m(\u001b[0m\u001b[0mself\u001b[0m\u001b[0;34m.\u001b[0m\u001b[0mfd\u001b[0m\u001b[0;34m,\u001b[0m \u001b[0mTIOCINQ\u001b[0m\u001b[0;34m,\u001b[0m \u001b[0mTIOCM_zero_str\u001b[0m\u001b[0;34m)\u001b[0m\u001b[0;34m\u001b[0m\u001b[0m\n\u001b[0m\u001b[1;32m    468\u001b[0m         \u001b[0;32mreturn\u001b[0m \u001b[0mstruct\u001b[0m\u001b[0;34m.\u001b[0m\u001b[0munpack\u001b[0m\u001b[0;34m(\u001b[0m\u001b[0;34m'I'\u001b[0m\u001b[0;34m,\u001b[0m \u001b[0ms\u001b[0m\u001b[0;34m)\u001b[0m\u001b[0;34m[\u001b[0m\u001b[0;36m0\u001b[0m\u001b[0;34m]\u001b[0m\u001b[0;34m\u001b[0m\u001b[0m\n\u001b[1;32m    469\u001b[0m \u001b[0;34m\u001b[0m\u001b[0m\n",
      "\u001b[0;31mKeyboardInterrupt\u001b[0m: "
     ]
    }
   ],
   "source": [
    "from IPython.display import clear_output\n",
    "\n",
    "while True:\n",
    "    reading = read_all()\n",
    "    r = [reading] #scaler.transform([reading])\n",
    "    p = r2.predict(r)\n",
    "    X.append(p[0][0])\n",
    "    Y.append(p[0][1])\n",
    "    plt.scatter(X, Y)\n",
    "    plt.scatter([p[0][0]], [p[0][1]])\n",
    "    plt.show()\n",
    "    clear_output(wait=True)"
   ]
  },
  {
   "cell_type": "code",
   "execution_count": 234,
   "metadata": {},
   "outputs": [
    {
     "data": {
      "text/plain": [
       "b''"
      ]
     },
     "execution_count": 234,
     "metadata": {},
     "output_type": "execute_result"
    }
   ],
   "source": [
    "ser.read_all()"
   ]
  },
  {
   "cell_type": "code",
   "execution_count": null,
   "metadata": {},
   "outputs": [],
   "source": []
  },
  {
   "cell_type": "code",
   "execution_count": null,
   "metadata": {},
   "outputs": [],
   "source": []
  },
  {
   "cell_type": "code",
   "execution_count": 236,
   "metadata": {},
   "outputs": [],
   "source": [
    "X = []\n",
    "y = []\n",
    "q = []\n"
   ]
  },
  {
   "cell_type": "code",
   "execution_count": 239,
   "metadata": {},
   "outputs": [],
   "source": [
    "for i in range(40):\n",
    "    readings = read_all()\n",
    "    X.append(readings)\n",
    "    y.append(1) # 0 empty, 1 finger, 2 pen\n",
    "    q.append(2)"
   ]
  },
  {
   "cell_type": "code",
   "execution_count": 109,
   "metadata": {},
   "outputs": [],
   "source": [
    "d = pd.DataFrame(X)\n",
    "d['y'] = y\n",
    "d['q'] = q"
   ]
  },
  {
   "cell_type": "code",
   "execution_count": 240,
   "metadata": {},
   "outputs": [
    {
     "data": {
      "text/html": [
       "<div>\n",
       "<style scoped>\n",
       "    .dataframe tbody tr th:only-of-type {\n",
       "        vertical-align: middle;\n",
       "    }\n",
       "\n",
       "    .dataframe tbody tr th {\n",
       "        vertical-align: top;\n",
       "    }\n",
       "\n",
       "    .dataframe thead th {\n",
       "        text-align: right;\n",
       "    }\n",
       "</style>\n",
       "<table border=\"1\" class=\"dataframe\">\n",
       "  <thead>\n",
       "    <tr style=\"text-align: right;\">\n",
       "      <th></th>\n",
       "      <th>0</th>\n",
       "      <th>1</th>\n",
       "      <th>2</th>\n",
       "      <th>3</th>\n",
       "      <th>4</th>\n",
       "      <th>5</th>\n",
       "      <th>6</th>\n",
       "      <th>7</th>\n",
       "      <th>8</th>\n",
       "      <th>9</th>\n",
       "      <th>...</th>\n",
       "      <th>64</th>\n",
       "      <th>65</th>\n",
       "      <th>66</th>\n",
       "      <th>67</th>\n",
       "      <th>68</th>\n",
       "      <th>69</th>\n",
       "      <th>70</th>\n",
       "      <th>71</th>\n",
       "      <th>y</th>\n",
       "      <th>q</th>\n",
       "    </tr>\n",
       "  </thead>\n",
       "  <tbody>\n",
       "    <tr>\n",
       "      <th>0</th>\n",
       "      <td>736</td>\n",
       "      <td>747</td>\n",
       "      <td>752</td>\n",
       "      <td>750</td>\n",
       "      <td>753</td>\n",
       "      <td>765</td>\n",
       "      <td>758</td>\n",
       "      <td>757</td>\n",
       "      <td>755</td>\n",
       "      <td>742</td>\n",
       "      <td>...</td>\n",
       "      <td>761</td>\n",
       "      <td>746</td>\n",
       "      <td>735</td>\n",
       "      <td>493</td>\n",
       "      <td>751</td>\n",
       "      <td>745</td>\n",
       "      <td>756</td>\n",
       "      <td>762</td>\n",
       "      <td>0</td>\n",
       "      <td>0</td>\n",
       "    </tr>\n",
       "    <tr>\n",
       "      <th>1</th>\n",
       "      <td>758</td>\n",
       "      <td>749</td>\n",
       "      <td>744</td>\n",
       "      <td>747</td>\n",
       "      <td>759</td>\n",
       "      <td>759</td>\n",
       "      <td>763</td>\n",
       "      <td>753</td>\n",
       "      <td>748</td>\n",
       "      <td>741</td>\n",
       "      <td>...</td>\n",
       "      <td>756</td>\n",
       "      <td>748</td>\n",
       "      <td>733</td>\n",
       "      <td>491</td>\n",
       "      <td>745</td>\n",
       "      <td>752</td>\n",
       "      <td>750</td>\n",
       "      <td>755</td>\n",
       "      <td>0</td>\n",
       "      <td>0</td>\n",
       "    </tr>\n",
       "    <tr>\n",
       "      <th>2</th>\n",
       "      <td>755</td>\n",
       "      <td>745</td>\n",
       "      <td>744</td>\n",
       "      <td>751</td>\n",
       "      <td>764</td>\n",
       "      <td>762</td>\n",
       "      <td>759</td>\n",
       "      <td>757</td>\n",
       "      <td>749</td>\n",
       "      <td>723</td>\n",
       "      <td>...</td>\n",
       "      <td>740</td>\n",
       "      <td>752</td>\n",
       "      <td>732</td>\n",
       "      <td>507</td>\n",
       "      <td>755</td>\n",
       "      <td>757</td>\n",
       "      <td>741</td>\n",
       "      <td>752</td>\n",
       "      <td>0</td>\n",
       "      <td>0</td>\n",
       "    </tr>\n",
       "    <tr>\n",
       "      <th>3</th>\n",
       "      <td>762</td>\n",
       "      <td>761</td>\n",
       "      <td>754</td>\n",
       "      <td>756</td>\n",
       "      <td>754</td>\n",
       "      <td>742</td>\n",
       "      <td>747</td>\n",
       "      <td>748</td>\n",
       "      <td>752</td>\n",
       "      <td>736</td>\n",
       "      <td>...</td>\n",
       "      <td>745</td>\n",
       "      <td>751</td>\n",
       "      <td>732</td>\n",
       "      <td>499</td>\n",
       "      <td>751</td>\n",
       "      <td>758</td>\n",
       "      <td>758</td>\n",
       "      <td>743</td>\n",
       "      <td>0</td>\n",
       "      <td>0</td>\n",
       "    </tr>\n",
       "    <tr>\n",
       "      <th>4</th>\n",
       "      <td>753</td>\n",
       "      <td>739</td>\n",
       "      <td>751</td>\n",
       "      <td>742</td>\n",
       "      <td>755</td>\n",
       "      <td>751</td>\n",
       "      <td>746</td>\n",
       "      <td>754</td>\n",
       "      <td>750</td>\n",
       "      <td>733</td>\n",
       "      <td>...</td>\n",
       "      <td>762</td>\n",
       "      <td>739</td>\n",
       "      <td>727</td>\n",
       "      <td>497</td>\n",
       "      <td>744</td>\n",
       "      <td>742</td>\n",
       "      <td>744</td>\n",
       "      <td>749</td>\n",
       "      <td>0</td>\n",
       "      <td>0</td>\n",
       "    </tr>\n",
       "  </tbody>\n",
       "</table>\n",
       "<p>5 rows × 74 columns</p>\n",
       "</div>"
      ],
      "text/plain": [
       "     0    1    2    3    4    5    6    7    8    9 ...   64   65   66   67  \\\n",
       "0  736  747  752  750  753  765  758  757  755  742 ...  761  746  735  493   \n",
       "1  758  749  744  747  759  759  763  753  748  741 ...  756  748  733  491   \n",
       "2  755  745  744  751  764  762  759  757  749  723 ...  740  752  732  507   \n",
       "3  762  761  754  756  754  742  747  748  752  736 ...  745  751  732  499   \n",
       "4  753  739  751  742  755  751  746  754  750  733 ...  762  739  727  497   \n",
       "\n",
       "    68   69   70   71  y  q  \n",
       "0  751  745  756  762  0  0  \n",
       "1  745  752  750  755  0  0  \n",
       "2  755  757  741  752  0  0  \n",
       "3  751  758  758  743  0  0  \n",
       "4  744  742  744  749  0  0  \n",
       "\n",
       "[5 rows x 74 columns]"
      ]
     },
     "execution_count": 240,
     "metadata": {},
     "output_type": "execute_result"
    }
   ],
   "source": [
    "d.head()"
   ]
  },
  {
   "cell_type": "code",
   "execution_count": 241,
   "metadata": {},
   "outputs": [],
   "source": [
    "d.to_csv('demoq.csv', index=False)"
   ]
  },
  {
   "cell_type": "code",
   "execution_count": null,
   "metadata": {},
   "outputs": [],
   "source": []
  }
 ],
 "metadata": {
  "kernelspec": {
   "display_name": "Python 3",
   "language": "python",
   "name": "python3"
  },
  "language_info": {
   "codemirror_mode": {
    "name": "ipython",
    "version": 3
   },
   "file_extension": ".py",
   "mimetype": "text/x-python",
   "name": "python",
   "nbconvert_exporter": "python",
   "pygments_lexer": "ipython3",
   "version": "3.6.6"
  }
 },
 "nbformat": 4,
 "nbformat_minor": 2
}
